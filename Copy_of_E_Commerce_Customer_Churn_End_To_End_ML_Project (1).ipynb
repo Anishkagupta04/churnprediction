{
  "metadata": {
    "kernelspec": {
      "language": "python",
      "display_name": "Python 3",
      "name": "python3"
    },
    "language_info": {
      "pygments_lexer": "ipython3",
      "nbconvert_exporter": "python",
      "version": "3.6.4",
      "file_extension": ".py",
      "codemirror_mode": {
        "name": "ipython",
        "version": 3
      },
      "name": "python",
      "mimetype": "text/x-python"
    },
    "colab": {
      "provenance": []
    }
  },
  "nbformat_minor": 0,
  "nbformat": 4,
  "cells": [
    {
      "source": [
        "\n",
        "# IMPORTANT: RUN THIS CELL IN ORDER TO IMPORT YOUR KAGGLE DATA SOURCES\n",
        "# TO THE CORRECT LOCATION (/kaggle/input) IN YOUR NOTEBOOK,\n",
        "# THEN FEEL FREE TO DELETE THIS CELL.\n",
        "# NOTE: THIS NOTEBOOK ENVIRONMENT DIFFERS FROM KAGGLE'S PYTHON\n",
        "# ENVIRONMENT SO THERE MAY BE MISSING LIBRARIES USED BY YOUR\n",
        "# NOTEBOOK.\n",
        "\n",
        "import os\n",
        "import sys\n",
        "from tempfile import NamedTemporaryFile\n",
        "from urllib.request import urlopen\n",
        "from urllib.parse import unquote, urlparse\n",
        "from urllib.error import HTTPError\n",
        "from zipfile import ZipFile\n",
        "import tarfile\n",
        "import shutil\n",
        "\n",
        "CHUNK_SIZE = 40960\n",
        "DATA_SOURCE_MAPPING = 'ecommerce-customer-churn-analysis-and-prediction:https%3A%2F%2Fstorage.googleapis.com%2Fkaggle-data-sets%2F1119908%2F1880629%2Fbundle%2Farchive.zip%3FX-Goog-Algorithm%3DGOOG4-RSA-SHA256%26X-Goog-Credential%3Dgcp-kaggle-com%2540kaggle-161607.iam.gserviceaccount.com%252F20240815%252Fauto%252Fstorage%252Fgoog4_request%26X-Goog-Date%3D20240815T083515Z%26X-Goog-Expires%3D259200%26X-Goog-SignedHeaders%3Dhost%26X-Goog-Signature%3D70dc383183804c1d81aaf05b960928a0509f7c868f8bec0b4156a7f9118380a7506aa51006b5eb1fe18eacb1eb3577c8ef31bca9de713a991f27d88e6e0bd57c2cb49184599d1f6753ed4298c5cc62eeee9ea40e6102e78773adfdf9f533ca3e7ca63c329be908a8e9ef913460d66e9397a8f1d69359c35d303bf74f6ca4601449f39daf731c18b86a9a845cc0e004122ec168459d98ef5828524bb5ec43bff0e48a495e9ec50f1c99dd863649fa331743bf15e5bd7895421025f0b8e7ee2c128979f290ad64683f5c0d4c3fd50e6b2fb5f9f8227e49eebe66afec12df07142726a4ced7399e5eedc09e08c2306404c84f19f078e447f40b3e2803d9f26ba8a6'\n",
        "\n",
        "KAGGLE_INPUT_PATH='/kaggle/input'\n",
        "KAGGLE_WORKING_PATH='/kaggle/working'\n",
        "KAGGLE_SYMLINK='kaggle'\n",
        "\n",
        "!umount /kaggle/input/ 2> /dev/null\n",
        "shutil.rmtree('/kaggle/input', ignore_errors=True)\n",
        "os.makedirs(KAGGLE_INPUT_PATH, 0o777, exist_ok=True)\n",
        "os.makedirs(KAGGLE_WORKING_PATH, 0o777, exist_ok=True)\n",
        "\n",
        "try:\n",
        "  os.symlink(KAGGLE_INPUT_PATH, os.path.join(\"..\", 'input'), target_is_directory=True)\n",
        "except FileExistsError:\n",
        "  pass\n",
        "try:\n",
        "  os.symlink(KAGGLE_WORKING_PATH, os.path.join(\"..\", 'working'), target_is_directory=True)\n",
        "except FileExistsError:\n",
        "  pass\n",
        "\n",
        "for data_source_mapping in DATA_SOURCE_MAPPING.split(','):\n",
        "    directory, download_url_encoded = data_source_mapping.split(':')\n",
        "    download_url = unquote(download_url_encoded)\n",
        "    filename = urlparse(download_url).path\n",
        "    destination_path = os.path.join(KAGGLE_INPUT_PATH, directory)\n",
        "    try:\n",
        "        with urlopen(download_url) as fileres, NamedTemporaryFile() as tfile:\n",
        "            total_length = fileres.headers['content-length']\n",
        "            print(f'Downloading {directory}, {total_length} bytes compressed')\n",
        "            dl = 0\n",
        "            data = fileres.read(CHUNK_SIZE)\n",
        "            while len(data) > 0:\n",
        "                dl += len(data)\n",
        "                tfile.write(data)\n",
        "                done = int(50 * dl / int(total_length))\n",
        "                sys.stdout.write(f\"\\r[{'=' * done}{' ' * (50-done)}] {dl} bytes downloaded\")\n",
        "                sys.stdout.flush()\n",
        "                data = fileres.read(CHUNK_SIZE)\n",
        "            if filename.endswith('.zip'):\n",
        "              with ZipFile(tfile) as zfile:\n",
        "                zfile.extractall(destination_path)\n",
        "            else:\n",
        "              with tarfile.open(tfile.name) as tarfile:\n",
        "                tarfile.extractall(destination_path)\n",
        "            print(f'\\nDownloaded and uncompressed: {directory}')\n",
        "    except HTTPError as e:\n",
        "        print(f'Failed to load (likely expired) {download_url} to path {destination_path}')\n",
        "        continue\n",
        "    except OSError as e:\n",
        "        print(f'Failed to load {download_url} to path {destination_path}')\n",
        "        continue\n",
        "\n",
        "print('Data source import complete.')\n"
      ],
      "metadata": {
        "id": "ghAi7j6ALVSu"
      },
      "cell_type": "code",
      "outputs": [],
      "execution_count": null
    },
    {
      "cell_type": "markdown",
      "source": [
        "<h1 style='background:#F5F5DC;border:0; color:black;\n",
        "    box-shadow: 10px 10px 5px 0px rgba(0,0,0,0.75);\n",
        "    transform: rotateX(10deg);\n",
        "    '><center>E-Commerce Customer Churn</center></h1>"
      ],
      "metadata": {
        "id": "6Jo4xb8CnTEx"
      }
    },
    {
      "cell_type": "markdown",
      "source": [
        "![sklep-internetowy.jpg](attachment:0582b2b3-10ec-4089-be18-e7f9aad875e0.jpg)"
      ],
      "metadata": {
        "id": "6Ll30FIVLVS1"
      }
    },
    {
      "cell_type": "markdown",
      "source": [
        "<div class=\"table-of-contents\" style=\"background-color:#F5F5DC; color:black; padding: 20px; margin: 10px; font-size: 110%; border-radius: 25px; box-shadow: 10px 10px 5px 0px rgba(0,0,0,0.75);\">\n",
        "  <h1>Table Of Contents</h1>\n",
        "  <ol>\n",
        "    <li><a href=\"#Introduction\" style=\"color: blue;\">Introduction</a></li>\n",
        "    <li><a href=\"#Features\" style=\"color: blue;\">Features</a></li>\n",
        "      <li><a href=\"#Goal\" style=\"color: blue;\">Goal</a></li>\n",
        "    <li><a href=\"#Plan\" style=\"color: blue;\">Plan</a></li>\n",
        "    <li><a href=\"#Importing\" style=\"color: blue;\">Importing Important Libraries</a></li>\n",
        "    <li><a href=\"#Data_Overview\" style=\"color: blue;\">Data Overview</a></li>\n",
        "    <li><a href=\"#EDA\" style=\"color: blue;\">EDA (Exploratory Data Analysis)</a></li>\n",
        "    <li><a href=\"#Data_Preprocessing\" style=\"color: blue;\">Data Preprocessing</a></li>\n",
        "    <li><a href=\"#Modeling\" style=\"color: blue;\">Modeling</a></li>\n",
        "    <li><a href=\"#Evaluation\" style=\"color: blue;\">Evaluation</a></li>\n",
        "    <li><a href=\"#Auto_ML\" style=\"color: blue;\">Auto ML</a></li>\n",
        "    <li><a href=\"#Recommendations_&_Conclustion\" style=\"color: blue;\">Recommendations & Conclustion</a></li>\n",
        "  </ol>\n",
        "</div>\n"
      ],
      "metadata": {
        "id": "dKEmyGi6WxW_"
      }
    },
    {
      "cell_type": "markdown",
      "source": [
        "<a id=\"Introduction\"></a>\n",
        "<div class=\"Introduction\" style=\"background-color:#F5F5DC; color:black; padding: 20px; margin: 10px; font-size: 110%; border-radius: 25px; box-shadow: 10px 10px 5px 0px rgba(0,0,0,0.75);\">\n",
        "  <h1><center>Introduction</center></h1>\n",
        "  <ul>\n",
        "  <li>\n",
        "    This is a dataset of leading ecommerce company and we have analysis who are churn(leaving the company service) and have to make predicting churn model.   \n",
        "   </li>\n",
        "  </ul>\n",
        "  </div>"
      ],
      "metadata": {
        "id": "P9A8OHrUn02q"
      }
    },
    {
      "cell_type": "markdown",
      "source": [
        "<a id=\"Features\"></a>\n",
        "<div class=\"Features\" style=\"background-color:#F5F5DC; color:black; padding: 20px; margin: 10px; font-size: 110%; border-radius: 25px; box-shadow: 10px 10px 5px 0px rgba(0,0,0,0.75);\">\n",
        "  <h1><center>Features</center></h1>\n",
        "  <ul>\n",
        "    <li > CustomerID: Unique customer ID</li>\n",
        "    <li>Churn: Churn Flag</li>\n",
        "    <li>Tenure: Tenure of customer in organization</li>\n",
        "    <li>PreferredLoginDevice: Preferred login device of customer</li>\n",
        "    <li>CityTier: City tier</li>\n",
        "    <li>WarehouseToHome: Distance in between warehouse to home of customer</li>\n",
        "    <li>PreferredPaymentMode: Preferred payment method of customer</li>\n",
        "    <li>Gender: Gender of customer</li>\n",
        "    <li>HourSpendOnApp: Number of hours spend on mobile application or website</li>\n",
        "    <li>NumberOfDeviceRegistered: Total number of deceives is registered on particular customer</li>\n",
        "    <li>PreferedOrderCat: Preferred order category of customer in last month</li>\n",
        "    <li>SatisfactionScore: Satisfactory score of customer on service</li>\n",
        "    <li>MaritalStatus: Marital status of customer</li>\n",
        "    <li>NumberOfAddress: Total number of added added on particular customer</li>\n",
        "    <liComplain: Any complaint has been raised in last month</li>\n",
        "    <li>OrderAmountHikeFromlastYear: Percentage increases in order from last year</li>\n",
        "    <li>CouponUsed: Total number of coupon has been used in last month</li>\n",
        "    <li>OrderCount: Total number of orders has been places in last month</li>\n",
        "    <li>DaySinceLastOrder: Day Since last order by customer</li>\n",
        "    <li>CashbackAmount: Average cashback in last month</li>        \n",
        "\n",
        "  </ul>\n",
        "</div>"
      ],
      "metadata": {
        "id": "mihDgHGdpQ81"
      }
    },
    {
      "cell_type": "markdown",
      "source": [
        "<a id=\"Goal\"></a>\n",
        "<div class=\"Goal\" style=\"background-color:#F5F5DC; color:black; padding: 20px; margin: 10px; font-size: 110%; border-radius: 25px; box-shadow: 10px 10px 5px 0px rgba(0,0,0,0.75);\">\n",
        "  <h1><center>Goal</center></h1>\n",
        "  <ul>\n",
        "    <li > Build a predictive model that can accurately identify customers who are at risk of leaving the company (churn) based on the provided variables. This can help the company take proactive steps to retain these customers and reduce the rate of churn.</li>\n",
        "    <br>\n",
        "    <li>Perform a thorough exploratory analysis of the provided customer data to gain insights into the behavior and characteristics of the customers. This includes analyzing patterns and trends in variables. This analysis can help the company understand its customers better and inform future decision-making.</li>      \n",
        "\n",
        "  </ul>"
      ],
      "metadata": {
        "id": "jJVWSz-4oJ8X"
      }
    },
    {
      "cell_type": "markdown",
      "source": [
        "<a id=\"Plan\"></a>\n",
        "<div class=\"Plan\" style=\"background-color:#F5F5DC; color:black; padding: 20px; margin: 10px; font-size: 110%; border-radius: 25px; box-shadow: 10px 10px 5px 0px rgba(0,0,0,0.75);\">\n",
        "  <h1><center>Plan</center></h1>\n",
        "\n",
        "<div class=\"Datasets Overview\" style=\"background-color:#DC143C; color:black; padding: 20px; margin: 10px; font-size: 110%; border-radius: 25px; box-shadow: 10px 10px 5px 0px rgba(0,0,0,0.75);\">\n",
        "  <h3 style=\"color: white;\" >Datasets Overview</h3>\n",
        "\n",
        "    \n",
        "  <ul>\n",
        "    <li style=\"color: white;\" > Review the provided customer data to familiarize yourself with the variables and their structure.</li>\n",
        "    <li style=\"color: white;\">Check the data quality, missing values, and potential errors.</li>\n",
        "    <li style=\"color: white;\">Determine if any data pre-processing is necessary.</li>\n",
        "    </ul>\n",
        "</div>\n",
        "<div class=\"Exploratory Data Analysis\" style=\"background-color:#DC143C; color:black; padding: 20px; margin: 10px; font-size: 110%; border-radius: 25px; box-shadow: 10px 10px 5px 0px rgba(0,0,0,0.75);\">\n",
        "  <h3 style=\"color: white;\" >Exploratory Data Analysis</h3>\n",
        "  \n",
        "  <ul>\n",
        "    <li style=\"color: white;\">Analyze the distribution of the variables to identify any outliers or anomalies.</li>\n",
        "    <li style=\"color: white;\">Investigate the relationship between variables to identify any correlations or patterns.</li>\n",
        "    <li style=\"color: white;\">Visualize the data to gain insights into the behavior and characteristics of the customers.</li>\n",
        "   </ul>\n",
        "</div>\n",
        "<div class=\"Pre-Processing\" style=\"background-color:#DC143C; color:black; padding: 20px; margin: 10px; font-size: 110%; border-radius: 25px; box-shadow: 10px 10px 5px 0px rgba(0,0,0,0.75);\">\n",
        "  <h3 style=\"color: white;\">Pre-Processing</h3>\n",
        "  \n",
        "  <ul>\n",
        "    <li style=\"color: white;\">Clean the data by handling missing values, converting variables to appropriate data types, and addressing any data quality issues.</li>\n",
        "    <li style=\"color: white;\">Select the most important variables for building the predictive model.</li>\n",
        "   </ul>  \n",
        "</div>\n",
        "<div class=\"Machine Learning\" style=\"background-color:#DC143C; color:black; padding: 20px; margin: 10px; font-size: 110%; border-radius: 25px; box-shadow: 10px 10px 5px 0px rgba(0,0,0,0.75);\">\n",
        "  <h3 style=\"color: white;\">Machine Learning</h3>\n",
        "  \n",
        "  <ul>\n",
        "    <li style=\"color: white;\">Build a predictive model that can identify customers who are at risk of leaving the company.</li>\n",
        "   </ul>  \n",
        "   </div>\n",
        "\n",
        "</div>"
      ],
      "metadata": {
        "id": "KSWa2xjpo12O"
      }
    },
    {
      "cell_type": "markdown",
      "source": [
        "<a id=\"Importing\"></a>\n",
        "<h1 style='background:#F5F5DC;border:0; color:black;\n",
        "    box-shadow: 10px 10px 5px 0px rgba(0,0,0,0.75);\n",
        "    transform: rotateX(10deg);\n",
        "    '><center>Importing Important Libraries</center></h1>  "
      ],
      "metadata": {
        "id": "ekQ_L64bqsr9"
      }
    },
    {
      "cell_type": "code",
      "source": [
        "import pandas as pd\n",
        "import numpy as np\n",
        "import matplotlib.pyplot as plt\n",
        "import seaborn as sns\n",
        "import missingno as msno\n",
        "\n",
        "from sklearn.model_selection import train_test_split\n",
        "from sklearn.preprocessing import StandardScaler , LabelEncoder\n",
        "from sklearn.svm import SVC\n",
        "\n",
        "# Additional imports\n",
        "from sklearn.linear_model import LogisticRegression\n",
        "from sklearn.ensemble import RandomForestClassifier\n",
        "from xgboost import XGBClassifier\n",
        "\n",
        "from sklearn.metrics import accuracy_score, precision_score, recall_score, f1_score, roc_auc_score , confusion_matrix , classification_report\n",
        "from sklearn.model_selection import GridSearchCV, cross_validate\n",
        "\n",
        "import warnings\n",
        "warnings.simplefilter(action='ignore')"
      ],
      "metadata": {
        "id": "_fN7mAyloy-C",
        "execution": {
          "iopub.status.busy": "2023-09-24T15:55:58.017374Z",
          "iopub.execute_input": "2023-09-24T15:55:58.0185Z",
          "iopub.status.idle": "2023-09-24T15:55:58.026332Z",
          "shell.execute_reply.started": "2023-09-24T15:55:58.018451Z",
          "shell.execute_reply": "2023-09-24T15:55:58.025142Z"
        },
        "trusted": true
      },
      "execution_count": null,
      "outputs": []
    },
    {
      "cell_type": "markdown",
      "source": [
        "<a id=\"Data_Overview\"></a>\n",
        "<h1 style='background:#F5F5DC;border:0; color:black;\n",
        "    box-shadow: 10px 10px 5px 0px rgba(0,0,0,0.75);\n",
        "    transform: rotateX(10deg);\n",
        "    '><center>Data Overview</center></h1>"
      ],
      "metadata": {
        "id": "Qp_5mvhCwhlv"
      }
    },
    {
      "cell_type": "code",
      "source": [
        "# Step 1: Data Loading and Understanding\n",
        "\n",
        "df = pd.read_excel('/kaggle/input/ecommerce-customer-churn-analysis-and-prediction/E Commerce Dataset.xlsx', sheet_name='E Comm')\n",
        "df.head()"
      ],
      "metadata": {
        "id": "qnkdO3uwn0L5",
        "execution": {
          "iopub.status.busy": "2023-09-24T15:55:58.028233Z",
          "iopub.execute_input": "2023-09-24T15:55:58.028601Z",
          "iopub.status.idle": "2023-09-24T15:56:00.544257Z",
          "shell.execute_reply.started": "2023-09-24T15:55:58.028571Z",
          "shell.execute_reply": "2023-09-24T15:56:00.542996Z"
        },
        "trusted": true
      },
      "execution_count": null,
      "outputs": []
    },
    {
      "cell_type": "code",
      "source": [
        "df.shape"
      ],
      "metadata": {
        "id": "lvBNr0EYwDMA",
        "execution": {
          "iopub.status.busy": "2023-09-24T15:56:00.545521Z",
          "iopub.execute_input": "2023-09-24T15:56:00.545821Z",
          "iopub.status.idle": "2023-09-24T15:56:00.552654Z",
          "shell.execute_reply.started": "2023-09-24T15:56:00.545795Z",
          "shell.execute_reply": "2023-09-24T15:56:00.55152Z"
        },
        "trusted": true
      },
      "execution_count": null,
      "outputs": []
    },
    {
      "cell_type": "code",
      "source": [
        "df.info()"
      ],
      "metadata": {
        "id": "w2hM-6GZwDWm",
        "execution": {
          "iopub.status.busy": "2023-09-24T15:56:00.554889Z",
          "iopub.execute_input": "2023-09-24T15:56:00.555265Z",
          "iopub.status.idle": "2023-09-24T15:56:00.577435Z",
          "shell.execute_reply.started": "2023-09-24T15:56:00.555235Z",
          "shell.execute_reply": "2023-09-24T15:56:00.575972Z"
        },
        "trusted": true
      },
      "execution_count": null,
      "outputs": []
    },
    {
      "cell_type": "code",
      "source": [
        "df.nunique()"
      ],
      "metadata": {
        "id": "o3s19-QkM3wa",
        "execution": {
          "iopub.status.busy": "2023-09-24T15:56:00.578915Z",
          "iopub.execute_input": "2023-09-24T15:56:00.579225Z",
          "iopub.status.idle": "2023-09-24T15:56:00.594089Z",
          "shell.execute_reply.started": "2023-09-24T15:56:00.579197Z",
          "shell.execute_reply": "2023-09-24T15:56:00.592901Z"
        },
        "trusted": true
      },
      "execution_count": null,
      "outputs": []
    },
    {
      "cell_type": "code",
      "source": [
        "# colums to list\n",
        "columns = df.columns.to_list()\n",
        "columns"
      ],
      "metadata": {
        "id": "HB4N6xk4wDcB",
        "execution": {
          "iopub.status.busy": "2023-09-24T15:56:00.595435Z",
          "iopub.execute_input": "2023-09-24T15:56:00.596002Z",
          "iopub.status.idle": "2023-09-24T15:56:00.606588Z",
          "shell.execute_reply.started": "2023-09-24T15:56:00.595971Z",
          "shell.execute_reply": "2023-09-24T15:56:00.605474Z"
        },
        "trusted": true
      },
      "execution_count": null,
      "outputs": []
    },
    {
      "cell_type": "code",
      "source": [
        "df.select_dtypes(exclude=np.number).columns"
      ],
      "metadata": {
        "id": "SqG5cXYnwDee",
        "execution": {
          "iopub.status.busy": "2023-09-24T15:56:00.607915Z",
          "iopub.execute_input": "2023-09-24T15:56:00.608447Z",
          "iopub.status.idle": "2023-09-24T15:56:00.615999Z",
          "shell.execute_reply.started": "2023-09-24T15:56:00.608406Z",
          "shell.execute_reply": "2023-09-24T15:56:00.614987Z"
        },
        "trusted": true
      },
      "execution_count": null,
      "outputs": []
    },
    {
      "cell_type": "code",
      "source": [
        "df.describe(include='O').style.background_gradient(axis=None , cmap = \"Blues\" , vmin = 0 , vmax = 9000  )\n"
      ],
      "metadata": {
        "id": "Q9i65Z8ZPL9L",
        "execution": {
          "iopub.status.busy": "2023-09-24T15:56:00.61795Z",
          "iopub.execute_input": "2023-09-24T15:56:00.619698Z",
          "iopub.status.idle": "2023-09-24T15:56:00.647638Z",
          "shell.execute_reply.started": "2023-09-24T15:56:00.619655Z",
          "shell.execute_reply": "2023-09-24T15:56:00.646476Z"
        },
        "trusted": true
      },
      "execution_count": null,
      "outputs": []
    },
    {
      "cell_type": "code",
      "source": [
        "# Show the unique values on each column.\n",
        "for col in df.columns:\n",
        "    if df[col].dtype == object:\n",
        "        print(str(col) + ' : ' + str(df[col].unique()))\n",
        "        print(df[col].value_counts())\n",
        "        print(\"________________________________________________________________________________\")"
      ],
      "metadata": {
        "id": "UzBpoZN6wDh_",
        "execution": {
          "iopub.status.busy": "2023-09-24T15:56:00.649087Z",
          "iopub.execute_input": "2023-09-24T15:56:00.650058Z",
          "iopub.status.idle": "2023-09-24T15:56:00.673535Z",
          "shell.execute_reply.started": "2023-09-24T15:56:00.650023Z",
          "shell.execute_reply": "2023-09-24T15:56:00.672372Z"
        },
        "trusted": true
      },
      "execution_count": null,
      "outputs": []
    },
    {
      "cell_type": "code",
      "source": [
        "\n",
        "df.select_dtypes(include=np.number).columns"
      ],
      "metadata": {
        "id": "fovzuiCgPvGp",
        "execution": {
          "iopub.status.busy": "2023-09-24T15:56:00.678444Z",
          "iopub.execute_input": "2023-09-24T15:56:00.679107Z",
          "iopub.status.idle": "2023-09-24T15:56:00.687101Z",
          "shell.execute_reply.started": "2023-09-24T15:56:00.679063Z",
          "shell.execute_reply": "2023-09-24T15:56:00.685976Z"
        },
        "trusted": true
      },
      "execution_count": null,
      "outputs": []
    },
    {
      "cell_type": "code",
      "source": [
        "df.describe().T.style.bar(subset=['mean']).background_gradient(subset=['std','50%','max'])"
      ],
      "metadata": {
        "id": "mK69WQpjP2cd",
        "execution": {
          "iopub.status.busy": "2023-09-24T15:56:00.688932Z",
          "iopub.execute_input": "2023-09-24T15:56:00.689602Z",
          "iopub.status.idle": "2023-09-24T15:56:00.747042Z",
          "shell.execute_reply.started": "2023-09-24T15:56:00.689562Z",
          "shell.execute_reply": "2023-09-24T15:56:00.746032Z"
        },
        "trusted": true
      },
      "execution_count": null,
      "outputs": []
    },
    {
      "cell_type": "code",
      "source": [
        "for col in df.columns:\n",
        "    if df[col].dtype == float or df[col].dtype == int:\n",
        "        print(str(col) + ' : ' + str(df[col].unique()))\n",
        "        print(df[col].value_counts())\n",
        "        print(\"________________________________________________________________________________\")"
      ],
      "metadata": {
        "id": "l-lboxjsRwTu",
        "execution": {
          "iopub.status.busy": "2023-09-24T15:56:00.748364Z",
          "iopub.execute_input": "2023-09-24T15:56:00.748846Z",
          "iopub.status.idle": "2023-09-24T15:56:00.784669Z",
          "shell.execute_reply.started": "2023-09-24T15:56:00.748809Z",
          "shell.execute_reply": "2023-09-24T15:56:00.783523Z"
        },
        "trusted": true
      },
      "execution_count": null,
      "outputs": []
    },
    {
      "cell_type": "code",
      "source": [
        "#As mobile phone and phone are both same so we have merged them\n",
        "df.loc[df['PreferredLoginDevice'] == 'Phone', 'PreferredLoginDevice' ] = 'Mobile Phone'\n",
        "df.loc[df['PreferedOrderCat'] == 'Mobile', 'PreferedOrderCat' ] = 'Mobile Phone'"
      ],
      "metadata": {
        "id": "JbbjinP1wDlB",
        "execution": {
          "iopub.status.busy": "2023-09-24T15:56:00.785971Z",
          "iopub.execute_input": "2023-09-24T15:56:00.786977Z",
          "iopub.status.idle": "2023-09-24T15:56:00.795411Z",
          "shell.execute_reply.started": "2023-09-24T15:56:00.786925Z",
          "shell.execute_reply": "2023-09-24T15:56:00.794365Z"
        },
        "trusted": true
      },
      "execution_count": null,
      "outputs": []
    },
    {
      "cell_type": "code",
      "source": [
        "df['PreferredLoginDevice'].value_counts()"
      ],
      "metadata": {
        "id": "UKCiU4kdwDoG",
        "execution": {
          "iopub.status.busy": "2023-09-24T15:56:00.796713Z",
          "iopub.execute_input": "2023-09-24T15:56:00.797184Z",
          "iopub.status.idle": "2023-09-24T15:56:00.811596Z",
          "shell.execute_reply.started": "2023-09-24T15:56:00.797153Z",
          "shell.execute_reply": "2023-09-24T15:56:00.810605Z"
        },
        "trusted": true
      },
      "execution_count": null,
      "outputs": []
    },
    {
      "cell_type": "markdown",
      "source": [],
      "metadata": {
        "id": "Eu4uhdcaTZ7e"
      }
    },
    {
      "cell_type": "code",
      "source": [
        "#as cod is also cash on delievery\n",
        "#as cc is also credit card so i merged them\n",
        "df.loc[df['PreferredPaymentMode'] == 'COD', 'PreferredPaymentMode' ] = 'Cash on Delivery'   # uses loc function\n",
        "df.loc[df['PreferredPaymentMode'] == 'CC', 'PreferredPaymentMode' ] = 'Credit Card'"
      ],
      "metadata": {
        "id": "AO-s-pgsghtE",
        "execution": {
          "iopub.status.busy": "2023-09-24T15:56:00.812878Z",
          "iopub.execute_input": "2023-09-24T15:56:00.813704Z",
          "iopub.status.idle": "2023-09-24T15:56:00.825097Z",
          "shell.execute_reply.started": "2023-09-24T15:56:00.813664Z",
          "shell.execute_reply": "2023-09-24T15:56:00.823814Z"
        },
        "trusted": true
      },
      "execution_count": null,
      "outputs": []
    },
    {
      "cell_type": "code",
      "source": [
        "df['PreferredPaymentMode'].value_counts()"
      ],
      "metadata": {
        "id": "eaMxKukZPApj",
        "execution": {
          "iopub.status.busy": "2023-09-24T15:56:00.826531Z",
          "iopub.execute_input": "2023-09-24T15:56:00.82951Z",
          "iopub.status.idle": "2023-09-24T15:56:00.840893Z",
          "shell.execute_reply.started": "2023-09-24T15:56:00.829465Z",
          "shell.execute_reply": "2023-09-24T15:56:00.83999Z"
        },
        "trusted": true
      },
      "execution_count": null,
      "outputs": []
    },
    {
      "cell_type": "code",
      "source": [
        "# convert num_cols to categories\n",
        "df2 = df.copy()\n",
        "for col in df2.columns:\n",
        "  if col == 'CustomerID':\n",
        "    continue\n",
        "\n",
        "  else:\n",
        "    if df2[col].dtype == 'int':\n",
        "      df2[col] = df[col].astype(str)\n",
        "\n",
        "df2.dtypes"
      ],
      "metadata": {
        "id": "vV9ZanMZi7-K",
        "execution": {
          "iopub.status.busy": "2023-09-24T15:56:00.842327Z",
          "iopub.execute_input": "2023-09-24T15:56:00.842827Z",
          "iopub.status.idle": "2023-09-24T15:56:00.874631Z",
          "shell.execute_reply.started": "2023-09-24T15:56:00.842789Z",
          "shell.execute_reply": "2023-09-24T15:56:00.87349Z"
        },
        "trusted": true
      },
      "execution_count": null,
      "outputs": []
    },
    {
      "cell_type": "code",
      "source": [
        "# Categorical cols after Converting\n",
        "df2.describe(include='O').style.background_gradient(axis=None , cmap = \"Blues\" , vmin = 0 , vmax = 9000  )"
      ],
      "metadata": {
        "id": "PtVSpxqJ-Q2k",
        "execution": {
          "iopub.status.busy": "2023-09-24T15:56:00.876111Z",
          "iopub.execute_input": "2023-09-24T15:56:00.876562Z",
          "iopub.status.idle": "2023-09-24T15:56:00.921813Z",
          "shell.execute_reply.started": "2023-09-24T15:56:00.876522Z",
          "shell.execute_reply": "2023-09-24T15:56:00.920793Z"
        },
        "trusted": true
      },
      "execution_count": null,
      "outputs": []
    },
    {
      "cell_type": "code",
      "source": [
        "# Numerical cols after Converting\n",
        "df2.describe().T.style.bar(subset=['mean']).background_gradient(subset=['std','50%','max'])"
      ],
      "metadata": {
        "id": "_jCea_f--UZ8",
        "execution": {
          "iopub.status.busy": "2023-09-24T15:56:00.923482Z",
          "iopub.execute_input": "2023-09-24T15:56:00.923902Z",
          "iopub.status.idle": "2023-09-24T15:56:00.964752Z",
          "shell.execute_reply.started": "2023-09-24T15:56:00.923863Z",
          "shell.execute_reply": "2023-09-24T15:56:00.963456Z"
        },
        "trusted": true
      },
      "execution_count": null,
      "outputs": []
    },
    {
      "cell_type": "code",
      "source": [
        "df.duplicated().sum()"
      ],
      "metadata": {
        "id": "8VxQJ8ReTTOv",
        "execution": {
          "iopub.status.busy": "2023-09-24T15:56:00.966026Z",
          "iopub.execute_input": "2023-09-24T15:56:00.966359Z",
          "iopub.status.idle": "2023-09-24T15:56:00.981106Z",
          "shell.execute_reply.started": "2023-09-24T15:56:00.966318Z",
          "shell.execute_reply": "2023-09-24T15:56:00.980278Z"
        },
        "trusted": true
      },
      "execution_count": null,
      "outputs": []
    },
    {
      "cell_type": "code",
      "source": [
        "# the sum of null values\n",
        "grouped_data = []\n",
        "for col in columns:\n",
        "    n_missing = df[col].isnull().sum()\n",
        "    percentage = n_missing / df.shape[0] * 100\n",
        "    grouped_data.append([col, n_missing, percentage])\n",
        "\n",
        "# Create a new DataFrame from the grouped data\n",
        "grouped_df = pd.DataFrame(grouped_data, columns=['column', 'n_missing', 'percentage'])\n",
        "\n",
        "# Group by 'col', 'n_missing', and 'percentage'\n",
        "result = grouped_df.groupby(['column', 'n_missing', 'percentage']).size()\n",
        "result"
      ],
      "metadata": {
        "id": "PlLeoAwrTUjr",
        "execution": {
          "iopub.status.busy": "2023-09-24T15:56:00.982094Z",
          "iopub.execute_input": "2023-09-24T15:56:00.983055Z",
          "iopub.status.idle": "2023-09-24T15:56:01.001319Z",
          "shell.execute_reply.started": "2023-09-24T15:56:00.983023Z",
          "shell.execute_reply": "2023-09-24T15:56:01.000328Z"
        },
        "trusted": true
      },
      "execution_count": null,
      "outputs": []
    },
    {
      "cell_type": "code",
      "source": [
        "from pandas_profiling import ProfileReport\n",
        "ProfileReport(df)"
      ],
      "metadata": {
        "id": "pc-IZeM5UQ1F",
        "execution": {
          "iopub.status.busy": "2023-09-24T15:56:01.002435Z",
          "iopub.execute_input": "2023-09-24T15:56:01.002906Z",
          "iopub.status.idle": "2023-09-24T15:56:54.304498Z",
          "shell.execute_reply.started": "2023-09-24T15:56:01.002875Z",
          "shell.execute_reply": "2023-09-24T15:56:54.303437Z"
        },
        "trusted": true
      },
      "execution_count": null,
      "outputs": []
    },
    {
      "cell_type": "markdown",
      "source": [
        "<a id=\"EDA\"></a>\n",
        "<div class=\"EDA (Exploratory Data Analysis)\" style=\"background-color:#F5F5DC; color:black; padding: 20px; margin: 10px; font-size: 110%; border-radius: 25px; box-shadow: 10px 10px 5px 0px rgba(0,0,0,0.75);\">\n",
        "  <h1><center>EDA (Exploratory Data Analysis)</center></h1>\n",
        "\n",
        "\n",
        "<div style=\"background-color:#DC143C; color:black; padding: 5px; margin: 5px; font-size: 110%; border-radius: 15px; box-shadow: 10px 10px 5px 0px rgba(0,0,0,0.75);\"><h3 style=\"color: white;\"><center>Bussiness Questions<center></h3>\n",
        "  </div>\n",
        "\n",
        "<div style=\"background-color:#DC143C; color:black; padding: 20px; margin: 10px; font-size: 110%; border-radius: 25px; box-shadow: 10px 10px 5px 0px rgba(0,0,0,0.75);\">  \n",
        "  <ol>\n",
        "    <li style=\"color: white;\"> Is there a relationship between Gender and Churn? & Which Gender has more Orders?</li>\n",
        "    <li style=\"color: white;\">Which MartialStatus has the highest Churn rate?</li>\n",
        "    <li style=\"color: white;\">Which CityTier has higher Tenure and OrderCount?</li>\n",
        "    <li style=\"color: white;\">Is Customer with High SatisfactionScore have high HourSpendOnApp?<br>Is there a correlation between SatisfactionScore and HourSpendOnApp?</li>\n",
        "    <li style=\"color: white;\">Which CityTier has the most HourSpendOnApp?</li>\n",
        "    <li style=\"color: white;\">What is the relation between NumberOfAddress and CityTier within the churn segment?</li>\n",
        "    <li style=\"color: white;\">What is the relation between Complain and DaySinceLastOrder?</li>\n",
        "    <li style=\"color: white;\">Is there a relationship between PreferredLoginDevice and Churn?</li>\n",
        "    <li style=\"color: white;\">What is the distance between warehouse to customer house in different city tier?</li>\n",
        "    <li style=\"color: white;\">Does different CityTiers has different prefered products?</li>\n",
        "    <li style=\"color: white;\">What is the preferred payment mode for different CityTiers?</li>\n",
        "    <li style=\"color: white;\">Which CityTier has the highest OrderCount?</li>\n",
        "    <li style=\"color: white;\">Does the percentage increase in order amount from last year affect churn rate?</li>\n",
        "    <li style=\"color: white;\">What is the relation between Complain and DaySinceLastOrder?</li>\n",
        "    <li style=\"color: white;\">What is ordercount for customers with high HourSpendOnApp?</li>\n",
        "    <li style=\"color: white;\">Is there a relationship between preferred order category and churn rate?</li>\n",
        "    <li style=\"color: white;\">Do customers who used more coupons have lower churn rates?</li>\n",
        "    <li style=\"color: white;\">Is there a connection between satisfaction score and number of orders in the past month?</li>\n",
        "    <li style=\"color: white;\">There is relation between CashbackAmount and  order counts within churn?</li>\n",
        "    <li style=\"color: white;\">Are customers who complained more likely to churn?</li>       \n",
        "  </ol>\n",
        "</div>\n",
        "\n",
        "</div>"
      ],
      "metadata": {
        "id": "NQ_6E3Ot07w_"
      }
    },
    {
      "cell_type": "code",
      "source": [
        "import plotly.graph_objects as go\n",
        "from plotly.subplots import make_subplots\n",
        "binary_cat_cols = ['Complain']\n",
        "outcome = ['Churn']\n",
        "cat_cols = ['PreferredLoginDevice', 'CityTier', 'PreferredPaymentMode',\n",
        "       'Gender', 'NumberOfDeviceRegistered', 'PreferedOrderCat',\n",
        "       'SatisfactionScore', 'MaritalStatus', 'NumberOfAddress', 'Complain']\n",
        "num_cols = ['Tenure', 'WarehouseToHome', 'HourSpendOnApp', 'OrderAmountHikeFromlastYear', 'CouponUsed', 'OrderCount', 'DaySinceLastOrder', 'CashbackAmount']\n"
      ],
      "metadata": {
        "id": "nvcAhixQOEbk",
        "execution": {
          "iopub.status.busy": "2023-09-24T15:56:54.305854Z",
          "iopub.execute_input": "2023-09-24T15:56:54.306194Z",
          "iopub.status.idle": "2023-09-24T15:56:54.31343Z",
          "shell.execute_reply.started": "2023-09-24T15:56:54.306152Z",
          "shell.execute_reply": "2023-09-24T15:56:54.312351Z"
        },
        "trusted": true
      },
      "execution_count": null,
      "outputs": []
    },
    {
      "cell_type": "code",
      "source": [
        "df_c = df[df['Churn']==1].copy()\n",
        "df_nc = df[df['Churn']==0].copy()\n",
        "\n",
        "fig, ax = plt.subplots(2,4,figsize=(20, 15))\n",
        "fig.suptitle('Density of Numeric Features by Churn', fontsize=20)\n",
        "ax = ax.flatten()\n",
        "\n",
        "for idx,c in enumerate(num_cols):\n",
        "    sns.kdeplot(df_c[c], linewidth= 3,\n",
        "             label = 'Churn',ax=ax[idx])\n",
        "    sns.kdeplot(df_nc[c], linewidth= 3,\n",
        "             label = 'No Churn',ax=ax[idx])\n",
        "\n",
        "    ax[idx].legend(loc='upper right')\n",
        "\n",
        "plt.show()"
      ],
      "metadata": {
        "id": "FJgnNdCTRJBq",
        "execution": {
          "iopub.status.busy": "2023-09-24T15:56:54.314797Z",
          "iopub.execute_input": "2023-09-24T15:56:54.315113Z",
          "iopub.status.idle": "2023-09-24T15:56:56.613246Z",
          "shell.execute_reply.started": "2023-09-24T15:56:54.315085Z",
          "shell.execute_reply": "2023-09-24T15:56:56.612454Z"
        },
        "trusted": true
      },
      "execution_count": null,
      "outputs": []
    },
    {
      "cell_type": "markdown",
      "source": [
        "\n",
        "<div class=\"Distributions Insights\" style=\"background-color:#F5F5DC; color:black; padding: 20px; margin: 10px; font-size: 110%; border-radius: 25px; box-shadow: 10px 10px 5px 0px rgba(0,0,0,0.75);\">\n",
        "  <h3><center>Distributions Insights Of the Numeric Features</center></h3>\n",
        "  <ul>\n",
        "    <li >Tenure: Customers with longer tenure seem less likely to churn. Makes sense as longer tenure indicates satisfaction.</li>\n",
        "    <li>CityTier: Churn rate looks similar across tiers. City tier does not seem predictive of churn.</li>\n",
        "    <li>WarehouseToHome: Shorter warehouse to home distances have a lower churn rate. Faster deliveries may improve satisfaction.</li>\n",
        "    <li>HourSpendOnApp: More time spent on app correlates with lower churn. App engagement is a good sign.</li>\n",
        "    <li>NumberOfDeviceRegistered: More registered devices associates with lower churn. Access across devices improves convenience.</li>\n",
        "    <li>SatisfactionScore: Higher satisfaction scores strongly associate with lower churn, as expected. Critical driver.</li>\n",
        "    <li>NumberOfAddress: Slight downward trend in churn as number of addresses increases. More addresses indicates loyalty.</li>\n",
        "    <li>Complain: More complaints associate with higher churn, though relationship isn't very strong. Complaints hurt satisfaction.</li>\n",
        "    <li>OrderAmountHikeFromLastYear: Big spenders from last year are less likely to churn. Good to retain big customers.</li>\n",
        "    <li>CouponUsed: Coupon usage correlates with lower churn. Coupons enhance loyalty.</li>\n",
        "    <li>OrderCount: Higher order counts associate with lower churn. Frequent usage builds habits.</li>\n",
        "    <li>DaySinceLastOrder: Longer since last order correlates with higher churn. Recency is a good predictor.</li>\n",
        " </ul>\n",
        " </div>"
      ],
      "metadata": {
        "id": "fijNPch9zLkF"
      }
    },
    {
      "cell_type": "code",
      "source": [
        "df_c = df2[df2['Churn']=='1'].copy()\n",
        "df_nc = df2[df2['Churn']=='0'].copy()\n",
        "\n",
        "fig, ax = plt.subplots(4,3,figsize=(20, 18))\n",
        "fig.suptitle('Density of Numeric Features by Churn', fontsize=20)\n",
        "ax = ax.flatten()\n",
        "\n",
        "for idx,c in enumerate(cat_cols):\n",
        "    sns.histplot(df_c[c], linewidth= 3,\n",
        "             label = 'Churn',ax=ax[idx])\n",
        "    sns.histplot(df_nc[c], linewidth= 3,\n",
        "             label = 'No Churn',ax=ax[idx])\n",
        "\n",
        "    ax[idx].legend(loc='upper right')\n",
        "\n",
        "plt.show()"
      ],
      "metadata": {
        "id": "1KofpX6C62Et",
        "execution": {
          "iopub.status.busy": "2023-09-24T15:56:56.614639Z",
          "iopub.execute_input": "2023-09-24T15:56:56.615174Z",
          "iopub.status.idle": "2023-09-24T15:56:59.849769Z",
          "shell.execute_reply.started": "2023-09-24T15:56:56.615144Z",
          "shell.execute_reply": "2023-09-24T15:56:59.848629Z"
        },
        "trusted": true
      },
      "execution_count": null,
      "outputs": []
    },
    {
      "cell_type": "code",
      "source": [
        "# color palettes\n",
        "pie_palette = ['#3E885B','#7694B6','#85BDA6', '#80AEBD', '#2F4B26', '#3A506B']\n",
        "green_palette = ['#2F4B26', '#3E885B', '#85BDA6', '#BEDCFE', '#C0D7BB']\n",
        "blue_palette = ['#3A506B', '#7694B6', '#80AEBD', '#5BC0BE', '#3E92CC']\n",
        "custom_palette = ['#3A506B', '#7694B6', '#80AEBD', '#3E885B', '#85BDA6']\n",
        "red_palette = ['#410B13', '#CD5D67', '#BA1F33', '#421820', '#91171F']"
      ],
      "metadata": {
        "id": "slxp-RH5aQfy",
        "execution": {
          "iopub.status.busy": "2023-09-24T15:56:59.851355Z",
          "iopub.execute_input": "2023-09-24T15:56:59.851864Z",
          "iopub.status.idle": "2023-09-24T15:56:59.859358Z",
          "shell.execute_reply.started": "2023-09-24T15:56:59.851826Z",
          "shell.execute_reply": "2023-09-24T15:56:59.857455Z"
        },
        "trusted": true
      },
      "execution_count": null,
      "outputs": []
    },
    {
      "cell_type": "markdown",
      "source": [
        "### 1-Is there a relationship between Gender and Churn? & Which Gender has more Orders?"
      ],
      "metadata": {
        "id": "GojYLFfg3z4Q"
      }
    },
    {
      "cell_type": "code",
      "source": [
        "df['Gender'].value_counts()"
      ],
      "metadata": {
        "id": "2ffEqiRPwiMd",
        "execution": {
          "iopub.status.busy": "2023-09-24T15:56:59.860654Z",
          "iopub.execute_input": "2023-09-24T15:56:59.861019Z",
          "iopub.status.idle": "2023-09-24T15:56:59.880373Z",
          "shell.execute_reply.started": "2023-09-24T15:56:59.860989Z",
          "shell.execute_reply": "2023-09-24T15:56:59.879142Z"
        },
        "trusted": true
      },
      "execution_count": null,
      "outputs": []
    },
    {
      "cell_type": "code",
      "source": [
        "df.groupby(\"Churn\")[\"Gender\"].value_counts() # the churned females ratio 348/2246 * 100\n",
        "                                              # the churned males ratio 600/3384 * 100"
      ],
      "metadata": {
        "id": "pkl6pbqg3z4R",
        "execution": {
          "iopub.status.busy": "2023-09-24T15:56:59.889663Z",
          "iopub.execute_input": "2023-09-24T15:56:59.890265Z",
          "iopub.status.idle": "2023-09-24T15:56:59.90257Z",
          "shell.execute_reply.started": "2023-09-24T15:56:59.890215Z",
          "shell.execute_reply": "2023-09-24T15:56:59.901129Z"
        },
        "trusted": true
      },
      "execution_count": null,
      "outputs": []
    },
    {
      "cell_type": "code",
      "source": [
        "df.groupby(\"PreferredLoginDevice\")[\"OrderCount\"].value_counts() # the churned females ratio 348/2246 * 100\n"
      ],
      "metadata": {
        "id": "C2kfg-TFbJ1P",
        "execution": {
          "iopub.status.busy": "2023-09-24T15:56:59.904381Z",
          "iopub.execute_input": "2023-09-24T15:56:59.904911Z",
          "iopub.status.idle": "2023-09-24T15:56:59.919233Z",
          "shell.execute_reply.started": "2023-09-24T15:56:59.904872Z",
          "shell.execute_reply": "2023-09-24T15:56:59.918187Z"
        },
        "trusted": true
      },
      "execution_count": null,
      "outputs": []
    },
    {
      "cell_type": "code",
      "source": [
        "gender_orders = df.groupby('Gender')['OrderCount'].mean().plot(kind='bar')\n",
        "\n",
        "gender_orders  # females have more order count avg"
      ],
      "metadata": {
        "id": "HGo7IdVR3z4R",
        "execution": {
          "iopub.status.busy": "2023-09-24T15:56:59.921111Z",
          "iopub.execute_input": "2023-09-24T15:56:59.921525Z",
          "iopub.status.idle": "2023-09-24T15:57:00.104807Z",
          "shell.execute_reply.started": "2023-09-24T15:56:59.921487Z",
          "shell.execute_reply": "2023-09-24T15:57:00.103483Z"
        },
        "trusted": true
      },
      "execution_count": null,
      "outputs": []
    },
    {
      "cell_type": "markdown",
      "source": [
        "there is not a big difference between the males and the femals: avg order"
      ],
      "metadata": {
        "id": "ODVNFsHf8JGV"
      }
    },
    {
      "cell_type": "code",
      "source": [
        "percentageM =600/3384 * 100\n",
        "\n",
        "percentageM   #the percentage of the leaving males out of the males"
      ],
      "metadata": {
        "id": "I2hpYsnhODl-",
        "execution": {
          "iopub.status.busy": "2023-09-24T15:57:00.106301Z",
          "iopub.execute_input": "2023-09-24T15:57:00.106627Z",
          "iopub.status.idle": "2023-09-24T15:57:00.114366Z",
          "shell.execute_reply.started": "2023-09-24T15:57:00.106599Z",
          "shell.execute_reply": "2023-09-24T15:57:00.11311Z"
        },
        "trusted": true
      },
      "execution_count": null,
      "outputs": []
    },
    {
      "cell_type": "code",
      "source": [
        "percentageF =348/2246 * 100\n",
        "\n",
        "percentageF  #the percentage of the leaving females out of the females\n"
      ],
      "metadata": {
        "id": "2eWvHS_ZPjkm",
        "execution": {
          "iopub.status.busy": "2023-09-24T15:57:00.115884Z",
          "iopub.execute_input": "2023-09-24T15:57:00.116828Z",
          "iopub.status.idle": "2023-09-24T15:57:00.12602Z",
          "shell.execute_reply.started": "2023-09-24T15:57:00.116794Z",
          "shell.execute_reply": "2023-09-24T15:57:00.125128Z"
        },
        "trusted": true
      },
      "execution_count": null,
      "outputs": []
    },
    {
      "cell_type": "code",
      "source": [
        "import pandas as pd\n",
        "import plotly.express as px\n",
        "\n",
        "# Create figure\n",
        "fig = px.pie(df, values='Churn', names='Gender')\n",
        "fig.update_traces(marker=dict(colors=['pink ', 'baby blue']))\n",
        "\n",
        "# Update layout\n",
        "fig.update_layout(\n",
        "  title='Churn Rate by Gender',\n",
        "  legend_title='Gender'\n",
        ")\n",
        "\n",
        "# Show plot\n",
        "fig.show()\n",
        "\n",
        "# # Create figure\n",
        "# fig = px.pie(df, values='OrderCount', names='Gender')\n",
        "# fig.update_traces(marker=dict(colors=['pink ', 'baby blue']))\n",
        "\n",
        "# # Update layout\n",
        "# fig.update_layout(\n",
        "#   title='order Rate by Gender',\n",
        "#   legend_title='Gender'\n",
        "# )\n",
        "\n",
        "# # Show plot\n",
        "# fig.show()"
      ],
      "metadata": {
        "id": "CuAUsmIc3z4S",
        "execution": {
          "iopub.status.busy": "2023-09-24T15:57:00.126956Z",
          "iopub.execute_input": "2023-09-24T15:57:00.127246Z",
          "iopub.status.idle": "2023-09-24T15:57:00.196806Z",
          "shell.execute_reply.started": "2023-09-24T15:57:00.127219Z",
          "shell.execute_reply": "2023-09-24T15:57:00.195695Z"
        },
        "trusted": true
      },
      "execution_count": null,
      "outputs": []
    },
    {
      "cell_type": "markdown",
      "source": [
        "as we see the males are more likely to churn as we have 63.3 % churned males from the app may be the company should consider incresing the products that grap the males interest and so on.. we are going to see if there is another factors that makes the highest segment of churned customers are males."
      ],
      "metadata": {
        "id": "PddJHf1AzEYG"
      }
    },
    {
      "cell_type": "markdown",
      "source": [
        "### 2-Which MartialStatus has the highest Churn rate?"
      ],
      "metadata": {
        "id": "1K82f_f-LXsJ"
      }
    },
    {
      "cell_type": "code",
      "source": [
        "df.groupby(\"Churn\")[\"MaritalStatus\"].value_counts()"
      ],
      "metadata": {
        "id": "aMaH_tKXcQ0r",
        "execution": {
          "iopub.status.busy": "2023-09-24T15:57:00.198291Z",
          "iopub.execute_input": "2023-09-24T15:57:00.198685Z",
          "iopub.status.idle": "2023-09-24T15:57:00.211482Z",
          "shell.execute_reply.started": "2023-09-24T15:57:00.198652Z",
          "shell.execute_reply": "2023-09-24T15:57:00.210273Z"
        },
        "trusted": true
      },
      "execution_count": null,
      "outputs": []
    },
    {
      "cell_type": "code",
      "source": [
        "sns.countplot(x='MaritalStatus',hue='Churn',data=df,palette='Set2')\n",
        "plt.title(\"churn Rates by MaritalStatus\")\n",
        "plt.ylabel(\"Churn Rate\")"
      ],
      "metadata": {
        "id": "m7mErN1ccQ4v",
        "execution": {
          "iopub.status.busy": "2023-09-24T15:57:00.212897Z",
          "iopub.execute_input": "2023-09-24T15:57:00.213405Z",
          "iopub.status.idle": "2023-09-24T15:57:00.468064Z",
          "shell.execute_reply.started": "2023-09-24T15:57:00.213362Z",
          "shell.execute_reply": "2023-09-24T15:57:00.466946Z"
        },
        "trusted": true
      },
      "execution_count": null,
      "outputs": []
    },
    {
      "cell_type": "markdown",
      "source": [
        "-the married are the highest customer segment in the comapny may be the comapny should consider taking care of the products that suits the single and the married customers as the singles are the most likely to churn from the app"
      ],
      "metadata": {
        "id": "MYeo6tWn-H-Y"
      }
    },
    {
      "cell_type": "markdown",
      "source": [
        "### 3-Which CityTier has higher Tenure and OrderCount?\n"
      ],
      "metadata": {
        "id": "eJ6Yx8KZLY-p"
      }
    },
    {
      "cell_type": "code",
      "source": [
        "df_grouped_tenure = df.groupby('CityTier')['Tenure'].agg(['mean', 'max'])\n",
        "df_grouped_tenure"
      ],
      "metadata": {
        "id": "JNbToW4gLZa9",
        "execution": {
          "iopub.status.busy": "2023-09-24T15:57:00.469527Z",
          "iopub.execute_input": "2023-09-24T15:57:00.470641Z",
          "iopub.status.idle": "2023-09-24T15:57:00.484751Z",
          "shell.execute_reply.started": "2023-09-24T15:57:00.470599Z",
          "shell.execute_reply": "2023-09-24T15:57:00.483569Z"
        },
        "trusted": true
      },
      "execution_count": null,
      "outputs": []
    },
    {
      "cell_type": "code",
      "source": [
        "df_grouped_OrderCount = df.groupby('CityTier')['OrderCount'].agg(['mean', 'max'])\n",
        "df_grouped_OrderCount"
      ],
      "metadata": {
        "execution": {
          "iopub.status.busy": "2023-09-24T15:57:00.486236Z",
          "iopub.execute_input": "2023-09-24T15:57:00.487037Z",
          "iopub.status.idle": "2023-09-24T15:57:00.498616Z",
          "shell.execute_reply.started": "2023-09-24T15:57:00.487008Z",
          "shell.execute_reply": "2023-09-24T15:57:00.497439Z"
        },
        "trusted": true,
        "id": "Ur-jASIlLVTI"
      },
      "execution_count": null,
      "outputs": []
    },
    {
      "cell_type": "code",
      "source": [
        "# means = df_grouped['Tenure']['mean']\n",
        "# means.plot(kind='pie',autopct='%1.1f%%')\n",
        "# plt.xlabel('CityTier')\n",
        "# plt.ylabel('Mean Tenure')\n"
      ],
      "metadata": {
        "id": "rHwi6XdXLZhv",
        "execution": {
          "iopub.status.busy": "2023-09-24T15:57:00.499884Z",
          "iopub.execute_input": "2023-09-24T15:57:00.500179Z",
          "iopub.status.idle": "2023-09-24T15:57:00.505123Z",
          "shell.execute_reply.started": "2023-09-24T15:57:00.500153Z",
          "shell.execute_reply": "2023-09-24T15:57:00.504046Z"
        },
        "trusted": true
      },
      "execution_count": null,
      "outputs": []
    },
    {
      "cell_type": "markdown",
      "source": [
        "citytier 2 has the highest tenure rate but the tenure rate does not seen to be a strong factor"
      ],
      "metadata": {
        "id": "wvdg8m9vIIJU"
      }
    },
    {
      "cell_type": "code",
      "source": [
        "df.groupby(\"CityTier\")[\"OrderCount\"].mean()"
      ],
      "metadata": {
        "id": "fkBnBZlRJYJO",
        "execution": {
          "iopub.status.busy": "2023-09-24T15:57:00.506533Z",
          "iopub.execute_input": "2023-09-24T15:57:00.506926Z",
          "iopub.status.idle": "2023-09-24T15:57:00.524847Z",
          "shell.execute_reply.started": "2023-09-24T15:57:00.506889Z",
          "shell.execute_reply": "2023-09-24T15:57:00.523612Z"
        },
        "trusted": true
      },
      "execution_count": null,
      "outputs": []
    },
    {
      "cell_type": "markdown",
      "source": [
        "citytier 3 has the highest order avg but it not to be a strong factor in the customer churning"
      ],
      "metadata": {
        "id": "LdJ3hEZ8Jy1I"
      }
    },
    {
      "cell_type": "markdown",
      "source": [
        "### 4-Is Customer with High SatisfactionScore have high HourSpendOnApp?\n",
        "### Is there a correlation between SatisfactionScore and HourSpendOnApp?"
      ],
      "metadata": {
        "id": "xsf-Mh4DLZ16"
      }
    },
    {
      "cell_type": "code",
      "source": [
        "df['SatisfactionScore'].dtypes"
      ],
      "metadata": {
        "id": "7FaedRoBhR_3",
        "execution": {
          "iopub.status.busy": "2023-09-24T15:57:00.528412Z",
          "iopub.execute_input": "2023-09-24T15:57:00.528857Z",
          "iopub.status.idle": "2023-09-24T15:57:00.53614Z",
          "shell.execute_reply.started": "2023-09-24T15:57:00.528826Z",
          "shell.execute_reply": "2023-09-24T15:57:00.535287Z"
        },
        "trusted": true
      },
      "execution_count": null,
      "outputs": []
    },
    {
      "cell_type": "code",
      "source": [
        "import matplotlib.pyplot as plt\n",
        "\n",
        "# plot\n",
        "fig = px.histogram(df2, x=\"HourSpendOnApp\", y=\"SatisfactionScore\", orientation=\"h\", color=\"Churn\" ,text_auto= True , title=\"<b>\"+'HourSpendOnApp Vs SatisfactionScore' , color_discrete_sequence = ['#BA1F33','#3A506B','#3E885B'])\n",
        "\n",
        "# Customize the plot\n",
        "fig.update_layout(hovermode='x',title_font_size=30)\n",
        "fig.update_layout(\n",
        "title_font_color=\"black\",\n",
        "template=\"plotly\",\n",
        "title_font_size=30,\n",
        "hoverlabel_font_size=20,\n",
        "title_x=0.5,\n",
        "xaxis_title='HourSpendOnApp',\n",
        "yaxis_title='SatisfactionScore',\n",
        ")\n",
        "fig.show()\n",
        "\n",
        "\n",
        "\n",
        "# sns.barplot(x='SatisfactionScore',y='HourSpendOnApp',data=df)\n",
        "# ax = df[['SatisfactionScore','HourSpendOnApp']].value_counts().plot(kind='bar')\n"
      ],
      "metadata": {
        "id": "EOEMpCtTLaQJ",
        "execution": {
          "iopub.status.busy": "2023-09-24T15:57:00.537648Z",
          "iopub.execute_input": "2023-09-24T15:57:00.537945Z",
          "iopub.status.idle": "2023-09-24T15:57:00.652593Z",
          "shell.execute_reply.started": "2023-09-24T15:57:00.537919Z",
          "shell.execute_reply": "2023-09-24T15:57:00.651433Z"
        },
        "trusted": true
      },
      "execution_count": null,
      "outputs": []
    },
    {
      "cell_type": "markdown",
      "source": [
        "as we see people with less satisfaction score spend less time on the app than the people of satisfaction score 5 but also i do not think there is any realation between the satisfaction score and people's spent time on the app"
      ],
      "metadata": {
        "id": "ZNMl8iLFlOQZ"
      }
    },
    {
      "cell_type": "markdown",
      "source": [
        "### 5-Which CityTier has the most HourSpendOnApp?"
      ],
      "metadata": {
        "id": "3iafHEvFLaou"
      }
    },
    {
      "cell_type": "code",
      "source": [
        "g = sns.FacetGrid(df, col='CityTier')\n",
        "g.map(sns.distplot, 'HourSpendOnApp')"
      ],
      "metadata": {
        "id": "TlgG4cQjLbK6",
        "execution": {
          "iopub.status.busy": "2023-09-24T15:57:00.654502Z",
          "iopub.execute_input": "2023-09-24T15:57:00.654903Z",
          "iopub.status.idle": "2023-09-24T15:57:01.663695Z",
          "shell.execute_reply.started": "2023-09-24T15:57:00.654858Z",
          "shell.execute_reply": "2023-09-24T15:57:01.662677Z"
        },
        "trusted": true
      },
      "execution_count": null,
      "outputs": []
    },
    {
      "cell_type": "markdown",
      "source": [
        "city tier 1 has the most spended hours on the app"
      ],
      "metadata": {
        "id": "2Ld0Il1ao9Ox"
      }
    },
    {
      "cell_type": "markdown",
      "source": [
        "### 6-What is the relation between NumberOfAddress and CityTier within the churn segment?"
      ],
      "metadata": {
        "id": "4cGAs-nQLbk0"
      }
    },
    {
      "cell_type": "code",
      "source": [
        "df.groupby(\"CityTier\")[\"NumberOfAddress\"].value_counts()"
      ],
      "metadata": {
        "id": "WsSeAqaUx6g7",
        "execution": {
          "iopub.status.busy": "2023-09-24T15:57:01.665244Z",
          "iopub.execute_input": "2023-09-24T15:57:01.665844Z",
          "iopub.status.idle": "2023-09-24T15:57:01.678384Z",
          "shell.execute_reply.started": "2023-09-24T15:57:01.665813Z",
          "shell.execute_reply": "2023-09-24T15:57:01.67714Z"
        },
        "trusted": true
      },
      "execution_count": null,
      "outputs": []
    },
    {
      "cell_type": "code",
      "source": [
        "# Violin plots\n",
        "import seaborn as sns\n",
        "sns.violinplot(x='CityTier', y='NumberOfAddress', data=df[df['Churn']==1])\n"
      ],
      "metadata": {
        "id": "l1misaHMLb5M",
        "execution": {
          "iopub.status.busy": "2023-09-24T15:57:01.679849Z",
          "iopub.execute_input": "2023-09-24T15:57:01.680267Z",
          "iopub.status.idle": "2023-09-24T15:57:01.944105Z",
          "shell.execute_reply.started": "2023-09-24T15:57:01.680228Z",
          "shell.execute_reply": "2023-09-24T15:57:01.943006Z"
        },
        "trusted": true
      },
      "execution_count": null,
      "outputs": []
    },
    {
      "cell_type": "markdown",
      "source": [
        "There is a negative correlation between CityTier and NumberOfAddress. Higher CityTiers are associated with lower average NumberOfAddress and a more concentrated distribution.\n",
        "Customers in larger cities (CityTier 1) tend to have more addresses on average compared to smaller cities and towns in lower tiers.\n",
        "The relationship suggests address density and type of locality (metro vs smaller cities vs towns) impacts how many addresses customers have across city types."
      ],
      "metadata": {
        "id": "kdotYlzBxfxS"
      }
    },
    {
      "cell_type": "markdown",
      "source": [
        "### 7-What is the relation between Complain and DaySinceLastOrder?"
      ],
      "metadata": {
        "id": "I4PTo4x9LcOi"
      }
    },
    {
      "cell_type": "code",
      "source": [
        "# Pearson correlation\n",
        "df[['DaySinceLastOrder', 'Complain']].corr()"
      ],
      "metadata": {
        "id": "zTZB7SoRLckq",
        "execution": {
          "iopub.status.busy": "2023-09-24T15:57:01.945641Z",
          "iopub.execute_input": "2023-09-24T15:57:01.946022Z",
          "iopub.status.idle": "2023-09-24T15:57:01.960548Z",
          "shell.execute_reply.started": "2023-09-24T15:57:01.945985Z",
          "shell.execute_reply": "2023-09-24T15:57:01.959631Z"
        },
        "trusted": true
      },
      "execution_count": null,
      "outputs": []
    },
    {
      "cell_type": "code",
      "source": [
        "import plotly.express as px\n",
        "\n",
        "fig = px.scatter(df, x='DaySinceLastOrder', y='Complain', facet_col='Churn')\n",
        "fig.update_layout(hovermode='closest')\n",
        "fig.show()"
      ],
      "metadata": {
        "id": "I0B8dpkVLcrE",
        "execution": {
          "iopub.status.busy": "2023-09-24T15:57:01.961888Z",
          "iopub.execute_input": "2023-09-24T15:57:01.962228Z",
          "iopub.status.idle": "2023-09-24T15:57:02.041272Z",
          "shell.execute_reply.started": "2023-09-24T15:57:01.9622Z",
          "shell.execute_reply": "2023-09-24T15:57:02.040037Z"
        },
        "trusted": true
      },
      "execution_count": null,
      "outputs": []
    },
    {
      "cell_type": "markdown",
      "source": [
        "there is a weak negative relation between complainig and the number of dayes since last order\n",
        "\n",
        "\n"
      ],
      "metadata": {
        "id": "xGCej0ZtBFKR"
      }
    },
    {
      "cell_type": "markdown",
      "source": [
        "### 8-Is there a relationship between PreferredLoginDevice and churn?\n",
        "\n"
      ],
      "metadata": {
        "id": "_YbXLsNmLc9v"
      }
    },
    {
      "cell_type": "code",
      "source": [
        "# Bar chart with churn rate\n",
        "import seaborn as sns\n",
        "# sns.catplot(x='PreferredLoginDevice', y='Churn', data=df, kind='bar')\n",
        "\n",
        "# Group the data by 'OverTime' and 'Attrition', and calculate the count\n",
        "grouped_data = df.groupby(['PreferredLoginDevice', 'Churn']).size().unstack().plot(kind='bar', stacked=True)\n",
        "\n",
        "# Set the plot title, x-label, and y-label\n",
        "plt.title('Churn by PreferredLoginDevice ')\n",
        "plt.xlabel('PreferredLoginDevice')\n",
        "plt.ylabel('Count')\n",
        "\n",
        "# Show the plot\n",
        "plt.show()\n"
      ],
      "metadata": {
        "id": "D8N0y38vLdT_",
        "execution": {
          "iopub.status.busy": "2023-09-24T15:57:02.042704Z",
          "iopub.execute_input": "2023-09-24T15:57:02.043036Z",
          "iopub.status.idle": "2023-09-24T15:57:02.280024Z",
          "shell.execute_reply.started": "2023-09-24T15:57:02.043008Z",
          "shell.execute_reply": "2023-09-24T15:57:02.278723Z"
        },
        "trusted": true
      },
      "execution_count": null,
      "outputs": []
    },
    {
      "cell_type": "markdown",
      "source": [
        "mobile phone users are likely to churn may be this indicates a problem on the app user experience on the app mobile version\n"
      ],
      "metadata": {
        "id": "LUuRGu_K7cG2"
      }
    },
    {
      "cell_type": "markdown",
      "source": [
        "## 9-What is distancebetween warehosue to customer house in different city tier ?\n",
        "\n"
      ],
      "metadata": {
        "id": "7Hr37bi0TH8S"
      }
    },
    {
      "cell_type": "code",
      "source": [
        "df3 = df.copy()\n",
        "\n",
        "df3['CityTier'].astype('str')\n",
        "plt.figure(figsize = (5,7))\n",
        "sns.stripplot(x = 'CityTier', y = 'WarehouseToHome', data = df3, jitter = False)\n",
        "plt.ylabel(' Distance between warehouse to home');"
      ],
      "metadata": {
        "id": "pKBpZbIITHRa",
        "execution": {
          "iopub.status.busy": "2023-09-24T15:57:02.282253Z",
          "iopub.execute_input": "2023-09-24T15:57:02.282938Z",
          "iopub.status.idle": "2023-09-24T15:57:02.579415Z",
          "shell.execute_reply.started": "2023-09-24T15:57:02.282893Z",
          "shell.execute_reply": "2023-09-24T15:57:02.578339Z"
        },
        "trusted": true
      },
      "execution_count": null,
      "outputs": []
    },
    {
      "cell_type": "markdown",
      "source": [
        "Inference: As the distance from warehouse to home is similar in all city tier which means company had build warehouse in lower city tier also."
      ],
      "metadata": {
        "id": "Q8tWvf6EdlVe"
      }
    },
    {
      "cell_type": "markdown",
      "source": [
        "### 10-Does different citytiers has different prefered products?\n"
      ],
      "metadata": {
        "id": "ViUnvZmonY1L"
      }
    },
    {
      "cell_type": "code",
      "source": [
        "import plotly.express as px\n",
        "earth_palette = [\"#A67C52\", \"#8F704D\", \"#B09B71\", \"#7E786E\"]\n",
        "\n",
        "\n",
        "fig=px.histogram(df,x=\"PreferedOrderCat\",facet_col=\"CityTier\",color=\"CityTier\",color_discrete_sequence=earth_palette,text_auto= True , title=\"<b>\"+'CityTier Vs PreferedOrderCat')\n",
        "\n",
        "# Customize the plot\n",
        "fig.update_layout(hovermode='x',title_font_size=30)\n",
        "fig.update_layout(\n",
        "title_font_color=\"black\",\n",
        "template=\"plotly\",\n",
        "title_font_size=30,\n",
        "hoverlabel_font_size=20,\n",
        "title_x=0.5,\n",
        "xaxis_title='PreferredPaymentMode',\n",
        "yaxis_title='count',\n",
        ")\n",
        "fig.show()"
      ],
      "metadata": {
        "id": "Bn0OEpzrjyFk",
        "execution": {
          "iopub.status.busy": "2023-09-24T15:57:02.580901Z",
          "iopub.execute_input": "2023-09-24T15:57:02.581217Z",
          "iopub.status.idle": "2023-09-24T15:57:02.710418Z",
          "shell.execute_reply.started": "2023-09-24T15:57:02.58119Z",
          "shell.execute_reply": "2023-09-24T15:57:02.709339Z"
        },
        "trusted": true
      },
      "execution_count": null,
      "outputs": []
    },
    {
      "cell_type": "markdown",
      "source": [
        "laptop & accesories and mobile phones are the prefered category for all the city tiers\n",
        "\n",
        "\n"
      ],
      "metadata": {
        "id": "FPPdWLnqnAEG"
      }
    },
    {
      "cell_type": "markdown",
      "source": [
        "### 11- What is the preferred payment mode for different CityTiers?"
      ],
      "metadata": {
        "id": "aPQ7RYkKKH3i"
      }
    },
    {
      "cell_type": "code",
      "source": [
        "df2['PreferredPaymentMode'].value_counts()"
      ],
      "metadata": {
        "id": "ViH7TvPC5hm7",
        "execution": {
          "iopub.status.busy": "2023-09-24T15:57:02.711711Z",
          "iopub.execute_input": "2023-09-24T15:57:02.712023Z",
          "iopub.status.idle": "2023-09-24T15:57:02.719563Z",
          "shell.execute_reply.started": "2023-09-24T15:57:02.711996Z",
          "shell.execute_reply": "2023-09-24T15:57:02.718852Z"
        },
        "trusted": true
      },
      "execution_count": null,
      "outputs": []
    },
    {
      "cell_type": "code",
      "source": [
        "df2.groupby('CityTier')[['PreferredPaymentMode']].value_counts()"
      ],
      "metadata": {
        "id": "WQpEBqqVKHkt",
        "execution": {
          "iopub.status.busy": "2023-09-24T15:57:02.720742Z",
          "iopub.execute_input": "2023-09-24T15:57:02.721265Z",
          "iopub.status.idle": "2023-09-24T15:57:02.747639Z",
          "shell.execute_reply.started": "2023-09-24T15:57:02.721235Z",
          "shell.execute_reply": "2023-09-24T15:57:02.746793Z"
        },
        "trusted": true
      },
      "execution_count": null,
      "outputs": []
    },
    {
      "cell_type": "code",
      "source": [
        "import plotly.express as px\n",
        "\n",
        "fig=px.histogram(df2,x=\"PreferredPaymentMode\",facet_col=\"CityTier\",color=\"CityTier\",color_discrete_sequence=red_palette,text_auto= True , title=\"<b>\"+'CityTier Vs PaymentMethod')\n",
        "\n",
        "# Customize the plot\n",
        "fig.update_layout(hovermode='x',title_font_size=30)\n",
        "fig.update_layout(\n",
        "title_font_color=\"black\",\n",
        "template=\"plotly\",\n",
        "title_font_size=30,\n",
        "hoverlabel_font_size=20,\n",
        "title_x=0.5,\n",
        "xaxis_title='PreferredPaymentMode',\n",
        "yaxis_title='count',\n",
        ")\n",
        "fig.show()"
      ],
      "metadata": {
        "id": "QsVIXJO9cQnc",
        "execution": {
          "iopub.status.busy": "2023-09-24T15:57:02.748945Z",
          "iopub.execute_input": "2023-09-24T15:57:02.749253Z",
          "iopub.status.idle": "2023-09-24T15:57:02.880845Z",
          "shell.execute_reply.started": "2023-09-24T15:57:02.749226Z",
          "shell.execute_reply": "2023-09-24T15:57:02.879324Z"
        },
        "trusted": true
      },
      "execution_count": null,
      "outputs": []
    },
    {
      "cell_type": "markdown",
      "source": [
        "#### preferred payment method for CityTier '1' ==> DebitCard\n",
        "#### preferred payment method for CityTier '2' ==> UPI\n",
        "#### preferred payment method for CityTier '3' ==> E wallet"
      ],
      "metadata": {
        "id": "MsyMv-8K_c7C"
      }
    },
    {
      "cell_type": "markdown",
      "source": [
        "### 12-Which CityTier has the highest OrderCount?"
      ],
      "metadata": {
        "id": "KM1lT9ygAQCC"
      }
    },
    {
      "cell_type": "code",
      "source": [
        "df2.groupby('CityTier')[['OrderCount']].sum()"
      ],
      "metadata": {
        "id": "anJTBm2CcQuK",
        "execution": {
          "iopub.status.busy": "2023-09-24T15:57:02.882657Z",
          "iopub.execute_input": "2023-09-24T15:57:02.883354Z",
          "iopub.status.idle": "2023-09-24T15:57:02.899267Z",
          "shell.execute_reply.started": "2023-09-24T15:57:02.883314Z",
          "shell.execute_reply": "2023-09-24T15:57:02.898445Z"
        },
        "trusted": true
      },
      "execution_count": null,
      "outputs": []
    },
    {
      "cell_type": "code",
      "source": [
        "fig = px.histogram(df2, x=\"OrderCount\", y=\"CityTier\", orientation=\"h\", color=\"CityTier\" ,text_auto= True , title=\"<b>\"+'CityTier Vs Sum of OrderCount' , color_discrete_sequence = ['#BA1F33','#3A506B','#3E885B'])\n",
        "\n",
        "# Customize the plot\n",
        "fig.update_layout(hovermode='x',title_font_size=30)\n",
        "fig.update_layout(\n",
        "title_font_color=\"black\",\n",
        "template=\"plotly\",\n",
        "title_font_size=30,\n",
        "hoverlabel_font_size=20,\n",
        "title_x=0.5,\n",
        "xaxis_title='Sum of OrderCount',\n",
        "yaxis_title='count',\n",
        ")\n",
        "fig.show()"
      ],
      "metadata": {
        "id": "yvee5SZhcQxF",
        "execution": {
          "iopub.status.busy": "2023-09-24T15:57:02.900796Z",
          "iopub.execute_input": "2023-09-24T15:57:02.901207Z",
          "iopub.status.idle": "2023-09-24T15:57:03.035928Z",
          "shell.execute_reply.started": "2023-09-24T15:57:02.901168Z",
          "shell.execute_reply": "2023-09-24T15:57:03.034668Z"
        },
        "trusted": true
      },
      "execution_count": null,
      "outputs": []
    },
    {
      "cell_type": "markdown",
      "source": [
        "### CityTier '1' has highest order count with 10298 orders"
      ],
      "metadata": {
        "id": "bloCm6GXDcfk"
      }
    },
    {
      "cell_type": "markdown",
      "source": [
        "### 13-Does the percentage increase in order amount from last year affect churn rate?"
      ],
      "metadata": {
        "id": "itwJsHdZDzDf"
      }
    },
    {
      "cell_type": "code",
      "source": [
        "df2['OrderAmountHikeFromlastYear'].value_counts()"
      ],
      "metadata": {
        "id": "GLvkqLV4TgqS",
        "execution": {
          "iopub.status.busy": "2023-09-24T15:57:03.037271Z",
          "iopub.execute_input": "2023-09-24T15:57:03.037624Z",
          "iopub.status.idle": "2023-09-24T15:57:03.047728Z",
          "shell.execute_reply.started": "2023-09-24T15:57:03.037593Z",
          "shell.execute_reply": "2023-09-24T15:57:03.046673Z"
        },
        "trusted": true
      },
      "execution_count": null,
      "outputs": []
    },
    {
      "cell_type": "code",
      "source": [
        "df2.groupby('OrderAmountHikeFromlastYear')['Churn'].count()"
      ],
      "metadata": {
        "id": "7XlGtS7sDsTb",
        "execution": {
          "iopub.status.busy": "2023-09-24T15:57:03.048941Z",
          "iopub.execute_input": "2023-09-24T15:57:03.049298Z",
          "iopub.status.idle": "2023-09-24T15:57:03.067907Z",
          "shell.execute_reply.started": "2023-09-24T15:57:03.049262Z",
          "shell.execute_reply": "2023-09-24T15:57:03.066703Z"
        },
        "trusted": true
      },
      "execution_count": null,
      "outputs": []
    },
    {
      "cell_type": "code",
      "source": [
        "comp_ten = df2.groupby([\"OrderAmountHikeFromlastYear\", \"Churn\"]).size().reset_index(name=\"Count\")\n",
        "\n",
        "# Create a bubble chart using Plotly\n",
        "fig_bubble = px.scatter(comp_ten, x=\"OrderAmountHikeFromlastYear\", y=\"Count\", size=\"Count\", color=\"Churn\", title=\"<b>\"+'OrderAmountHikeFromlastYear VS Churn',\n",
        "                        color_discrete_sequence=[\"#d62728\", \"#1f77b4\"])\n",
        "\n",
        "# Customize the plot\n",
        "fig_bubble.update_layout(hovermode='x',title_font_size=30)\n",
        "fig_bubble.update_layout(\n",
        "title_font_color=\"black\",\n",
        "template=\"plotly\",\n",
        "title_font_size=30,\n",
        "hoverlabel_font_size=20,\n",
        "title_x=0.5,\n",
        "xaxis_title='OrderAmountHikeFromlastYear',\n",
        "yaxis_title='count',\n",
        ")\n",
        "fig_bubble.show()"
      ],
      "metadata": {
        "id": "bTgqPtXQG0T5",
        "execution": {
          "iopub.status.busy": "2023-09-24T15:57:03.069191Z",
          "iopub.execute_input": "2023-09-24T15:57:03.069612Z",
          "iopub.status.idle": "2023-09-24T15:57:03.168517Z",
          "shell.execute_reply.started": "2023-09-24T15:57:03.069575Z",
          "shell.execute_reply": "2023-09-24T15:57:03.167442Z"
        },
        "trusted": true
      },
      "execution_count": null,
      "outputs": []
    },
    {
      "cell_type": "markdown",
      "source": [
        "#### Graph Show when the percentage of order last year increase the churn rate decrease so OrderAmountHikeFromlastYear has postive effect on Churn rate and we need to focus when customer has percentage 12% - 14%\n"
      ],
      "metadata": {
        "id": "7SQzXodGGwPv"
      }
    },
    {
      "cell_type": "markdown",
      "source": [
        "### 14-What is the relation between Complain and DaySinceLastOrder for churned customers?"
      ],
      "metadata": {
        "id": "KKF9R0r8JgdR"
      }
    },
    {
      "cell_type": "code",
      "source": [
        "df_c.groupby('Complain')[['DaySinceLastOrder']].sum()"
      ],
      "metadata": {
        "id": "VfvIOy_zJWoE",
        "execution": {
          "iopub.status.busy": "2023-09-24T15:57:03.170106Z",
          "iopub.execute_input": "2023-09-24T15:57:03.1709Z",
          "iopub.status.idle": "2023-09-24T15:57:03.183834Z",
          "shell.execute_reply.started": "2023-09-24T15:57:03.17086Z",
          "shell.execute_reply": "2023-09-24T15:57:03.182824Z"
        },
        "trusted": true
      },
      "execution_count": null,
      "outputs": []
    },
    {
      "cell_type": "code",
      "source": [
        "fig = px.histogram(df2, x=\"DaySinceLastOrder\", color=\"Complain\",text_auto= True , title=\"<b>DaySinceLastOrder Vs Complain\" , color_discrete_sequence = ['#BA1F33','#3A506B'],\n",
        "                   marginal=\"box\") # or violin, rug)\n",
        "\n",
        "# Customize the plot\n",
        "fig.update_layout(hovermode='x',title_font_size=30)\n",
        "fig.update_layout(\n",
        "title_font_color=\"black\",\n",
        "template=\"plotly\",\n",
        "title_font_size=30,\n",
        "hoverlabel_font_size=20,\n",
        "title_x=0.5,\n",
        "xaxis_title='DaySinceLastOrder',\n",
        "yaxis_title='count',\n",
        ")\n",
        "fig.show()"
      ],
      "metadata": {
        "id": "WqbbyP_mKcTx",
        "execution": {
          "iopub.status.busy": "2023-09-24T15:57:03.184993Z",
          "iopub.execute_input": "2023-09-24T15:57:03.185795Z",
          "iopub.status.idle": "2023-09-24T15:57:03.307657Z",
          "shell.execute_reply.started": "2023-09-24T15:57:03.185766Z",
          "shell.execute_reply": "2023-09-24T15:57:03.306664Z"
        },
        "trusted": true
      },
      "execution_count": null,
      "outputs": []
    },
    {
      "cell_type": "markdown",
      "source": [
        "#### customers who didn't made complain has higher DaySinceLastOrder , however it's only one customer so its an outlier if we remove it we will customers with no complain has lower DaySinceLastOrder\n"
      ],
      "metadata": {
        "id": "zLZljQb2LdTP"
      }
    },
    {
      "cell_type": "markdown",
      "source": [
        "### 15-What is the order counts for customers with high HourSpendOnApp?"
      ],
      "metadata": {
        "id": "KzSIgFnLL_Ce"
      }
    },
    {
      "cell_type": "code",
      "source": [
        "# we will make binnig for column HourSpendOnApp\n",
        "df2['HourSpendOnApp'].agg(['min','max'])"
      ],
      "metadata": {
        "id": "cE38CWL7L60J",
        "execution": {
          "iopub.status.busy": "2023-09-24T15:57:03.309679Z",
          "iopub.execute_input": "2023-09-24T15:57:03.310097Z",
          "iopub.status.idle": "2023-09-24T15:57:03.31908Z",
          "shell.execute_reply.started": "2023-09-24T15:57:03.310062Z",
          "shell.execute_reply": "2023-09-24T15:57:03.317921Z"
        },
        "trusted": true
      },
      "execution_count": null,
      "outputs": []
    },
    {
      "cell_type": "code",
      "source": [
        "# Define the bin range\n",
        "bins = [0 , 1 , 3 , 6]\n",
        "label = ['low' , 'medium' , 'high']\n",
        "# Create a new column 'HourSpendOnApp_bins' with the binned values\n",
        "df2['HourSpendOnApp_bins'] = pd.cut(df2['HourSpendOnApp'], bins=bins , labels = label)"
      ],
      "metadata": {
        "id": "GrZct2AXORMm",
        "execution": {
          "iopub.status.busy": "2023-09-24T15:57:03.320367Z",
          "iopub.execute_input": "2023-09-24T15:57:03.320819Z",
          "iopub.status.idle": "2023-09-24T15:57:03.334159Z",
          "shell.execute_reply.started": "2023-09-24T15:57:03.320789Z",
          "shell.execute_reply": "2023-09-24T15:57:03.333166Z"
        },
        "trusted": true
      },
      "execution_count": null,
      "outputs": []
    },
    {
      "cell_type": "code",
      "source": [
        "df2.groupby(['HourSpendOnApp_bins','OrderCount'])[['CustomerID']].count()"
      ],
      "metadata": {
        "id": "9cVxFSXjOjYC",
        "execution": {
          "iopub.status.busy": "2023-09-24T15:57:03.335773Z",
          "iopub.execute_input": "2023-09-24T15:57:03.336454Z",
          "iopub.status.idle": "2023-09-24T15:57:03.367271Z",
          "shell.execute_reply.started": "2023-09-24T15:57:03.336412Z",
          "shell.execute_reply": "2023-09-24T15:57:03.366082Z"
        },
        "trusted": true
      },
      "execution_count": null,
      "outputs": []
    },
    {
      "cell_type": "code",
      "source": [
        "sunbrust_gr = df2.loc[:,['HourSpendOnApp_bins','OrderCount']].dropna()"
      ],
      "metadata": {
        "id": "6Q4TMYJZQDbL",
        "execution": {
          "iopub.status.busy": "2023-09-24T15:57:03.368724Z",
          "iopub.execute_input": "2023-09-24T15:57:03.369593Z",
          "iopub.status.idle": "2023-09-24T15:57:03.376308Z",
          "shell.execute_reply.started": "2023-09-24T15:57:03.369562Z",
          "shell.execute_reply": "2023-09-24T15:57:03.375451Z"
        },
        "trusted": true
      },
      "execution_count": null,
      "outputs": []
    },
    {
      "cell_type": "code",
      "source": [
        "fig = px.sunburst(sunbrust_gr,path=['HourSpendOnApp_bins','OrderCount'],title=\"<b>\"+'HourSpendOnApp VS OrderCount',template=\"plotly\" , color_discrete_sequence=[\"#78b4d5\", \"#d57f86\" ,'#3E885B'])\n",
        "fig.update_layout(hovermode='x',title_font_size=30)\n",
        "fig.update_layout(\n",
        "title_font_color=\"black\",\n",
        "template=\"plotly\",\n",
        "title_font_size=30,\n",
        "hoverlabel_font_size=20,\n",
        "title_x=0.5,\n",
        ")\n",
        "fig.update_traces(textinfo=\"label+percent parent\")\n",
        "\n",
        "fig.show()"
      ],
      "metadata": {
        "id": "HM_kR7KdPVjZ",
        "execution": {
          "iopub.status.busy": "2023-09-24T15:57:03.377432Z",
          "iopub.execute_input": "2023-09-24T15:57:03.378158Z",
          "iopub.status.idle": "2023-09-24T15:57:03.550336Z",
          "shell.execute_reply.started": "2023-09-24T15:57:03.378126Z",
          "shell.execute_reply": "2023-09-24T15:57:03.549134Z"
        },
        "trusted": true
      },
      "execution_count": null,
      "outputs": []
    },
    {
      "cell_type": "markdown",
      "source": [
        "#### Segment of customers has high spendtime on App has OrderCount 2 with percentage 67%"
      ],
      "metadata": {
        "id": "-IqZ3IfdQqqF"
      }
    },
    {
      "cell_type": "markdown",
      "source": [
        "### 16-Is there a relationship between preferred order category and churn rate?"
      ],
      "metadata": {
        "id": "FbrKjiWtRQ2o"
      }
    },
    {
      "cell_type": "code",
      "source": [
        "df2.groupby(['PreferedOrderCat' , 'Gender'])[['CustomerID']].count()"
      ],
      "metadata": {
        "id": "luGmoRq2RF7F",
        "execution": {
          "iopub.status.busy": "2023-09-24T15:57:03.551589Z",
          "iopub.execute_input": "2023-09-24T15:57:03.551889Z",
          "iopub.status.idle": "2023-09-24T15:57:03.567063Z",
          "shell.execute_reply.started": "2023-09-24T15:57:03.551863Z",
          "shell.execute_reply": "2023-09-24T15:57:03.565904Z"
        },
        "trusted": true
      },
      "execution_count": null,
      "outputs": []
    },
    {
      "cell_type": "code",
      "source": [
        "# Group and count by 'PreferedOrderCat' and 'Churn'\n",
        "ordercat_churnrate = pd.DataFrame(df2.groupby('PreferedOrderCat')['Gender'].value_counts())\n",
        "ordercat_churnrate = ordercat_churnrate.rename(columns={'Gender': 'Count'})\n",
        "ordercat_churnrate = ordercat_churnrate.reset_index()\n",
        "\n",
        "\n",
        "fig = px.histogram(ordercat_churnrate, x='PreferedOrderCat', y = 'count',color='Gender', barmode='group',color_discrete_sequence=pie_palette,title=\"<b>\"+'Prefered Category Vs Gender', barnorm = \"percent\",text_auto= True)\n",
        "fig.update_layout(hovermode='x',title_font_size=30)\n",
        "fig.update_layout(\n",
        "title_font_color=\"black\",\n",
        "template=\"plotly\",\n",
        "title_font_size=30,\n",
        "hoverlabel_font_size=20,\n",
        "title_x=0.5,\n",
        "xaxis_title='PreferedOrderCat',\n",
        "yaxis_title='count',\n",
        ")\n",
        "fig.show()"
      ],
      "metadata": {
        "id": "9YJDkvHqTj5I",
        "execution": {
          "iopub.status.busy": "2023-09-24T15:57:03.568679Z",
          "iopub.execute_input": "2023-09-24T15:57:03.568997Z",
          "iopub.status.idle": "2023-09-24T15:57:03.668586Z",
          "shell.execute_reply.started": "2023-09-24T15:57:03.568961Z",
          "shell.execute_reply": "2023-09-24T15:57:03.667559Z"
        },
        "trusted": true
      },
      "execution_count": null,
      "outputs": []
    },
    {
      "cell_type": "markdown",
      "source": [
        "#### Top 2 Preferd Category For Males == > [ Others , Mobile Phone ]\n",
        "#### Top 2 Preferd Category For Females == > [ Grocery , Fashion ]"
      ],
      "metadata": {
        "id": "3ypGpbPzWphV"
      }
    },
    {
      "cell_type": "markdown",
      "source": [
        "### 17-Do customers who used more coupons have lower churn rates?"
      ],
      "metadata": {
        "id": "5-6UHwO5WpuM"
      }
    },
    {
      "cell_type": "code",
      "source": [
        "df2.groupby(['CouponUsed' , 'Churn'])[['CustomerID']].count()"
      ],
      "metadata": {
        "id": "UGYNjreWYzzS",
        "execution": {
          "iopub.status.busy": "2023-09-24T15:57:03.670325Z",
          "iopub.execute_input": "2023-09-24T15:57:03.670779Z",
          "iopub.status.idle": "2023-09-24T15:57:03.689143Z",
          "shell.execute_reply.started": "2023-09-24T15:57:03.670741Z",
          "shell.execute_reply": "2023-09-24T15:57:03.688448Z"
        },
        "trusted": true
      },
      "execution_count": null,
      "outputs": []
    },
    {
      "cell_type": "code",
      "source": [
        "# Group and count by 'Coup' and 'Churn'\n",
        "coupoun_churnrate = pd.DataFrame(df2.groupby('CouponUsed')['Churn'].value_counts())\n",
        "coupoun_churnrate = coupoun_churnrate.rename(columns={'Churn': 'Count'})\n",
        "coupoun_churnrate = coupoun_churnrate.reset_index()\n",
        "\n",
        "\n",
        "fig = px.bar(coupoun_churnrate, x='CouponUsed', y = 'count',color='Churn', barmode='group',color_discrete_sequence=['rgba(58, 71, 80, 0.6)' ,'rgba(246, 78, 139, 1.0)'],title=\"<b>\"+'CouponUsed Vs Churn Rate',text_auto= True)\n",
        "fig.update_layout(hovermode='x',title_font_size=30)\n",
        "fig.update_layout(\n",
        "title_font_color=\"black\",\n",
        "template=\"plotly\",\n",
        "title_font_size=30,\n",
        "hoverlabel_font_size=20,\n",
        "title_x=0.5,\n",
        "xaxis_title='CouponUsed',\n",
        "yaxis_title='count',\n",
        ")\n",
        "fig.show()"
      ],
      "metadata": {
        "id": "r_IbjxfcWuou",
        "execution": {
          "iopub.status.busy": "2023-09-24T15:57:03.690269Z",
          "iopub.execute_input": "2023-09-24T15:57:03.690576Z",
          "iopub.status.idle": "2023-09-24T15:57:03.805733Z",
          "shell.execute_reply.started": "2023-09-24T15:57:03.690549Z",
          "shell.execute_reply": "2023-09-24T15:57:03.804709Z"
        },
        "trusted": true
      },
      "execution_count": null,
      "outputs": []
    },
    {
      "cell_type": "markdown",
      "source": [
        "#### Grpah shows Churn become less when more coupons used"
      ],
      "metadata": {
        "id": "33d-4xw8mPOx"
      }
    },
    {
      "cell_type": "markdown",
      "source": [
        "### 18-Is there a connection between satisfaction score and number of orders in the past month?"
      ],
      "metadata": {
        "id": "pvGA71zlmlvq"
      }
    },
    {
      "cell_type": "code",
      "source": [
        "df2.groupby('SatisfactionScore')[['OrderCount']].count()"
      ],
      "metadata": {
        "id": "92Zt40qWmhuH",
        "execution": {
          "iopub.status.busy": "2023-09-24T15:57:03.806986Z",
          "iopub.execute_input": "2023-09-24T15:57:03.80732Z",
          "iopub.status.idle": "2023-09-24T15:57:03.82143Z",
          "shell.execute_reply.started": "2023-09-24T15:57:03.807292Z",
          "shell.execute_reply": "2023-09-24T15:57:03.820534Z"
        },
        "trusted": true
      },
      "execution_count": null,
      "outputs": []
    },
    {
      "cell_type": "code",
      "source": [
        "fig = px.box(df2, y=\"OrderCount\", x='SatisfactionScore', color=\"SatisfactionScore\", title=\"<b>\"+'SatisfactionScore Vs OrderCount',\n",
        "             boxmode=\"overlay\", points='all')\n",
        "fig.update_layout(hovermode='x',title_font_size=30)\n",
        "fig.update_layout(\n",
        "title_font_color=\"black\",\n",
        "template=\"plotly\",\n",
        "title_font_size=30,\n",
        "hoverlabel_font_size=20,\n",
        "title_x=0.5,\n",
        "xaxis_title='SatisfactionScore',\n",
        "yaxis_title='OrderCount',\n",
        ")\n",
        "fig.show()"
      ],
      "metadata": {
        "id": "0tBQw34FnvTa",
        "execution": {
          "iopub.status.busy": "2023-09-24T15:57:03.82333Z",
          "iopub.execute_input": "2023-09-24T15:57:03.824087Z",
          "iopub.status.idle": "2023-09-24T15:57:03.951331Z",
          "shell.execute_reply.started": "2023-09-24T15:57:03.824045Z",
          "shell.execute_reply": "2023-09-24T15:57:03.950323Z"
        },
        "trusted": true
      },
      "execution_count": null,
      "outputs": []
    },
    {
      "cell_type": "markdown",
      "source": [
        "#### StatisfactionScore doesn't have affect on OrderCount"
      ],
      "metadata": {
        "id": "_GLAxY5NzMqI"
      }
    },
    {
      "cell_type": "markdown",
      "source": [
        "##19-There is relation between CashbackAmount and  order counts within churn?"
      ],
      "metadata": {
        "id": "uYde-tTC0YsN"
      }
    },
    {
      "cell_type": "code",
      "source": [
        "df_c.groupby(['OrderCount','CashbackAmount'])[['Churn']].count()"
      ],
      "metadata": {
        "id": "QXFFlbjz1YWq",
        "execution": {
          "iopub.status.busy": "2023-09-24T15:57:03.952694Z",
          "iopub.execute_input": "2023-09-24T15:57:03.953001Z",
          "iopub.status.idle": "2023-09-24T15:57:03.975004Z",
          "shell.execute_reply.started": "2023-09-24T15:57:03.952975Z",
          "shell.execute_reply": "2023-09-24T15:57:03.973961Z"
        },
        "trusted": true
      },
      "execution_count": null,
      "outputs": []
    },
    {
      "cell_type": "code",
      "source": [
        "# fig = px.density_contour(df2, x=\"HourSpendOnApp\", y=\"OrderCount\", color = 'churn',\n",
        "#                          title=\"<b>\"+'HourSpendOnApp Vs OrderCount within churn',\n",
        "#                           color_discrete_sequence=[\"#d62728\", \"#1f77b4\"]\n",
        "#                         )\n",
        "fig = px.histogram(df2, x='CashbackAmount', y='OrderCount' ,color = 'Churn', title=\"<b>\"+'CashbackAmount Vs OrderCount within churn', color_discrete_sequence=[\"#d62728\", \"#1f77b4\"])\n",
        "\n",
        "# Customize the plot\n",
        "fig.update_layout(hovermode='x',title_font_size=30)\n",
        "fig.update_layout(\n",
        "title_font_color=\"black\",\n",
        "template=\"plotly\",\n",
        "title_font_size=30,\n",
        "hoverlabel_font_size=20,\n",
        "title_x=0.5,\n",
        "xaxis_title='CashbackAmount',\n",
        "yaxis_title='OrderCount',\n",
        ")\n",
        "fig.show()"
      ],
      "metadata": {
        "id": "biYpJ3790QK5",
        "execution": {
          "iopub.status.busy": "2023-09-24T15:57:03.976231Z",
          "iopub.execute_input": "2023-09-24T15:57:03.977707Z",
          "iopub.status.idle": "2023-09-24T15:57:04.077931Z",
          "shell.execute_reply.started": "2023-09-24T15:57:03.977677Z",
          "shell.execute_reply": "2023-09-24T15:57:04.076705Z"
        },
        "trusted": true
      },
      "execution_count": null,
      "outputs": []
    },
    {
      "cell_type": "markdown",
      "source": [
        "#### Graphs shows there is no relation between cash back amount and ordercount and there is postive relation between cashback amount and churn rate"
      ],
      "metadata": {
        "id": "4mGUxseC-_jR"
      }
    },
    {
      "cell_type": "markdown",
      "source": [
        "##20-Are customers who complained more likely to churn?"
      ],
      "metadata": {
        "id": "efL0_NJp_0UI"
      }
    },
    {
      "cell_type": "code",
      "source": [
        "df2.groupby('Complain')[['Churn']].count()"
      ],
      "metadata": {
        "id": "KUIfeRp__LWv",
        "execution": {
          "iopub.status.busy": "2023-09-24T15:57:04.079237Z",
          "iopub.execute_input": "2023-09-24T15:57:04.079527Z",
          "iopub.status.idle": "2023-09-24T15:57:04.092559Z",
          "shell.execute_reply.started": "2023-09-24T15:57:04.079502Z",
          "shell.execute_reply": "2023-09-24T15:57:04.091429Z"
        },
        "trusted": true
      },
      "execution_count": null,
      "outputs": []
    },
    {
      "cell_type": "code",
      "source": [
        "comp_churn = pd.DataFrame(df2.groupby('Complain')['Churn'].value_counts())\n",
        "comp_churn = comp_churn.rename(columns={'Churn': 'Count'})\n",
        "comp_churn = comp_churn.reset_index()\n",
        "print(comp_churn)\n",
        "\n",
        "comp_churn['Complain'].replace('0' , 'No Complain' , inplace = True)\n",
        "comp_churn['Complain'].replace('1' , 'Complain' , inplace = True)\n",
        "comp_churn['Churn'].replace('0' , 'No Churn' , inplace = True)\n",
        "comp_churn['Churn'].replace('1' , 'Churn' , inplace = True)\n",
        "print(comp_churn)\n",
        "\n",
        "# Tree map\n",
        "fig = px.treemap(comp_churn, path=[px.Constant(\"all\"), 'Complain', 'Churn'], values='count' , color_discrete_sequence=[\"#2F4B26\" , '#FF0000'],title=\"<b>\"+'Complain Vs Churn')\n",
        "fig.update_traces(textinfo=\"label+percent parent+value\" ,root_color=\"lightgrey\")\n",
        "fig.update_layout(margin = dict(t=70, l=25, r=25, b=25))\n",
        "\n",
        "# red_palette = ['#410B13', '#CD5D67', '#BA1F33', '#421820', '#91171F']\n",
        "# Customize the plot\n",
        "fig.update_layout(hovermode='x',title_font_size=30)\n",
        "fig.update_layout(\n",
        "title_font_color=\"black\",\n",
        "template=\"plotly\",\n",
        "title_font_size=30,\n",
        "hoverlabel_font_size=20,\n",
        "title_x=0.5,\n",
        ")\n",
        "fig.show()"
      ],
      "metadata": {
        "id": "lcYnKo2V3R2n",
        "execution": {
          "iopub.status.busy": "2023-09-24T15:57:04.094439Z",
          "iopub.execute_input": "2023-09-24T15:57:04.09473Z",
          "iopub.status.idle": "2023-09-24T15:57:04.266181Z",
          "shell.execute_reply.started": "2023-09-24T15:57:04.094705Z",
          "shell.execute_reply": "2023-09-24T15:57:04.265103Z"
        },
        "trusted": true
      },
      "execution_count": null,
      "outputs": []
    },
    {
      "cell_type": "markdown",
      "source": [
        "#### No complain doesn't affects on Churn as graph shows customers which made complains 68% doesn't make Churn"
      ],
      "metadata": {
        "id": "X2-beNDOLGsK"
      }
    },
    {
      "cell_type": "markdown",
      "source": [
        "<div class=\"All EDA Insights\" style=\"background-color:#F5F5DC; color:black; padding: 20px; margin: 10px; font-size: 110%; border-radius: 25px; box-shadow: 10px 10px 5px 0px rgba(0,0,0,0.75);\">\n",
        "  <h1><center>All EDA Insights</center></h1>\n",
        "  <ul>\n",
        "    <li >There is not a big difference between the males and the females: avg order</li>\n",
        "    <li>The males are more likely to churn as we have 63.3 % churned males from the app may be the company should consider incresing the products that grap the males interest and so on.. we are going to see if there is another factors that makes the highest segment of churned customers are males.</li>\n",
        "    <li>The married are the highest customer segment in the comapny may be the comapny should consider taking care of the products that suits the single and the married customers as the singles are the most likely to churn from the app</li>\n",
        "    <li>Citytier 2 has the highest tenure rate but the tenure rate does not seen to be a strong factor</li>\n",
        "    <li>Citytier 3 has the highest order avg but it not to be a strong factor in the customer churning</li>\n",
        "    <li>People with less satisfaction score spend less time on the app than the people of satisfaction score 5 but also i do not think there is any realation between the satisfaction score and people's spent time on the app</li>\n",
        "    <li>City tier 1 has the most spended hours on the app</li>\n",
        "    <li>There is a negative correlation between CityTier and NumberOfAddress. Higher CityTiers are associated with lower average NumberOfAddress and a more concentrated distribution, Customers in larger cities (CityTier 1) tend to have more addresses on average compared to smaller cities and towns in lower tiers, The relationship suggests address density and type of locality (metro vs smaller cities vs towns) impacts how many addresses customers have across city types.</li>\n",
        "    <li>There is a weak negative relation between complainig and the number of days since last order</li>\n",
        "    <li>mobile phone users are likely to churn may be this indicates a problem on the app user experience on the app mobile version</li>\n",
        "    <li>Inference: As the distance from warehouse to home is similar in all city tier which means company had build warehouse in lower city tier also.</li>\n",
        "    <li>laptop & accesories and mobile phones are the prefered category for all the city tiers</li>\n",
        "    <li> Preferred payment method for CityTier '1' ==> DebitCard <br>\n",
        "         Preferred payment method for CityTier '2' ==> UPI<br>\n",
        "         Preferred payment method for CityTier '3' ==> E wallet<br>\n",
        "         There is big common in debit card method in  tiers</li>\n",
        "    <li>CityTier '1' has highest order count with 10298 orders <br>\n",
        "    CityTier '3' has highest mean ordercount that means CityTier '3' thier count small and they have many orders 'richTier' </li>\n",
        "    <li>When the percentage of order last year increase the churn rate decrease so OrderAmountHikeFromlastYear has postive effect on Churn rate and we need to focus when customer has percentage 12% - 15%</li>\n",
        "    <li>customers who didn't made complain has higher DaySinceLastOrder , however it's only one customer so its an outlier if we remove it we will customers with no complain has lower DaySinceLastOrder</li>\n",
        "    <li>Segment of customers has high spendtime on App has OrderCount 2 with percentage 67%</li>\n",
        "    <li>Top 2 Preferd Category For Males == > [ Others , Mobile Phone ]<br>\n",
        "   Top 2 Preferd Category For Females == > [ Grocery , Fashion ]</li>\n",
        "    <li>Churn become less when more coupons used</li>\n",
        "    <li>StatisfactionScore doesn't have affect on OrderCount</li>\n",
        "    <li>There is no relation between cash back amount and ordercount and there is postive relation between cashback amount and churn rate</li>\n",
        "    <li>Complain doesn't affects on Churn, Customers which made complains 68% doesn't make Churn</li>         \n",
        "\n",
        "  </ul>\n",
        "</div>"
      ],
      "metadata": {
        "id": "L93OJ8qkq0l-"
      }
    },
    {
      "cell_type": "markdown",
      "source": [
        "<a id=\"Data_Preprocessing\"></a>\n",
        "<h1 style='background:#F5F5DC;border:0; color:black;\n",
        "    box-shadow: 10px 10px 5px 0px rgba(0,0,0,0.75);\n",
        "    transform: rotateX(10deg);\n",
        "    '><center>Data Preprocessing</center></h1>"
      ],
      "metadata": {
        "id": "smR8c2WWv5ns"
      }
    },
    {
      "cell_type": "markdown",
      "source": [
        "## Handling Missing Values"
      ],
      "metadata": {
        "id": "ou213Z8H0MXj"
      }
    },
    {
      "cell_type": "code",
      "source": [
        "round((df.isnull().sum()*100 / df.shape[0]),2)"
      ],
      "metadata": {
        "id": "HjC5u9VZv8Ki",
        "execution": {
          "iopub.status.busy": "2023-09-24T15:57:04.267895Z",
          "iopub.execute_input": "2023-09-24T15:57:04.268702Z",
          "iopub.status.idle": "2023-09-24T15:57:04.281714Z",
          "shell.execute_reply.started": "2023-09-24T15:57:04.268661Z",
          "shell.execute_reply": "2023-09-24T15:57:04.280328Z"
        },
        "trusted": true
      },
      "execution_count": null,
      "outputs": []
    },
    {
      "cell_type": "code",
      "source": [
        "msno.matrix(df)"
      ],
      "metadata": {
        "id": "YizOLqP41e0B",
        "execution": {
          "iopub.status.busy": "2023-09-24T15:57:04.283185Z",
          "iopub.execute_input": "2023-09-24T15:57:04.284001Z",
          "iopub.status.idle": "2023-09-24T15:57:05.2372Z",
          "shell.execute_reply.started": "2023-09-24T15:57:04.283969Z",
          "shell.execute_reply": "2023-09-24T15:57:05.236224Z"
        },
        "trusted": true
      },
      "execution_count": null,
      "outputs": []
    },
    {
      "cell_type": "code",
      "source": [
        "msno.bar(df , color=\"tab:green\")"
      ],
      "metadata": {
        "id": "mdwx5OEN1l7o",
        "execution": {
          "iopub.status.busy": "2023-09-24T15:57:05.238674Z",
          "iopub.execute_input": "2023-09-24T15:57:05.239033Z",
          "iopub.status.idle": "2023-09-24T15:57:07.129358Z",
          "shell.execute_reply.started": "2023-09-24T15:57:05.239004Z",
          "shell.execute_reply": "2023-09-24T15:57:07.128438Z"
        },
        "trusted": true
      },
      "execution_count": null,
      "outputs": []
    },
    {
      "cell_type": "markdown",
      "source": [
        "#### All Missing values less than 6% so we can impute them"
      ],
      "metadata": {
        "id": "wce6jFNeFUfa"
      }
    },
    {
      "cell_type": "code",
      "source": [
        "sns.kdeplot(df , x='Tenure')"
      ],
      "metadata": {
        "id": "Ew-i6A7R3F56",
        "execution": {
          "iopub.status.busy": "2023-09-24T15:57:07.130887Z",
          "iopub.execute_input": "2023-09-24T15:57:07.131173Z",
          "iopub.status.idle": "2023-09-24T15:57:07.45599Z",
          "shell.execute_reply.started": "2023-09-24T15:57:07.131147Z",
          "shell.execute_reply": "2023-09-24T15:57:07.455124Z"
        },
        "trusted": true
      },
      "execution_count": null,
      "outputs": []
    },
    {
      "cell_type": "code",
      "source": [
        "# impute with bfill Method\n",
        "df['Tenure'] = df['Tenure'].fillna(method = 'bfill')"
      ],
      "metadata": {
        "id": "xIMSYPDpFepZ",
        "execution": {
          "iopub.status.busy": "2023-09-24T15:57:07.457287Z",
          "iopub.execute_input": "2023-09-24T15:57:07.457612Z",
          "iopub.status.idle": "2023-09-24T15:57:07.465818Z",
          "shell.execute_reply.started": "2023-09-24T15:57:07.457584Z",
          "shell.execute_reply": "2023-09-24T15:57:07.464512Z"
        },
        "trusted": true
      },
      "execution_count": null,
      "outputs": []
    },
    {
      "cell_type": "code",
      "source": [
        "sns.kdeplot(df , x='Tenure')"
      ],
      "metadata": {
        "id": "e394K5LkFetE",
        "execution": {
          "iopub.status.busy": "2023-09-24T15:57:07.467154Z",
          "iopub.execute_input": "2023-09-24T15:57:07.467983Z",
          "iopub.status.idle": "2023-09-24T15:57:07.800339Z",
          "shell.execute_reply.started": "2023-09-24T15:57:07.467934Z",
          "shell.execute_reply": "2023-09-24T15:57:07.79919Z"
        },
        "trusted": true
      },
      "execution_count": null,
      "outputs": []
    },
    {
      "cell_type": "code",
      "source": [
        "df['Tenure'].isnull().sum()"
      ],
      "metadata": {
        "id": "q2vaBFGGF3Fq",
        "execution": {
          "iopub.status.busy": "2023-09-24T15:57:07.80166Z",
          "iopub.execute_input": "2023-09-24T15:57:07.801958Z",
          "iopub.status.idle": "2023-09-24T15:57:07.808778Z",
          "shell.execute_reply.started": "2023-09-24T15:57:07.801931Z",
          "shell.execute_reply": "2023-09-24T15:57:07.807737Z"
        },
        "trusted": true
      },
      "execution_count": null,
      "outputs": []
    },
    {
      "cell_type": "markdown",
      "source": [
        "-------------------------------"
      ],
      "metadata": {
        "id": "YU7XHGHbJgxZ"
      }
    },
    {
      "cell_type": "code",
      "source": [
        "sns.kdeplot(df , x='WarehouseToHome')"
      ],
      "metadata": {
        "id": "1a2rUymdJgOG",
        "execution": {
          "iopub.status.busy": "2023-09-24T15:57:07.826113Z",
          "iopub.execute_input": "2023-09-24T15:57:07.826469Z",
          "iopub.status.idle": "2023-09-24T15:57:08.133436Z",
          "shell.execute_reply.started": "2023-09-24T15:57:07.82644Z",
          "shell.execute_reply": "2023-09-24T15:57:08.132296Z"
        },
        "trusted": true
      },
      "execution_count": null,
      "outputs": []
    },
    {
      "cell_type": "code",
      "source": [
        "# Impute with simple imputer\n",
        "from sklearn.impute import SimpleImputer\n",
        "s_imp = SimpleImputer(missing_values=np.nan , strategy = 'most_frequent')\n",
        "df['WarehouseToHome'] = s_imp.fit_transform(pd.DataFrame(df['WarehouseToHome']))"
      ],
      "metadata": {
        "id": "Bt0VAb-GGBCY",
        "execution": {
          "iopub.status.busy": "2023-09-24T15:57:08.134804Z",
          "iopub.execute_input": "2023-09-24T15:57:08.135131Z",
          "iopub.status.idle": "2023-09-24T15:57:08.155261Z",
          "shell.execute_reply.started": "2023-09-24T15:57:08.135102Z",
          "shell.execute_reply": "2023-09-24T15:57:08.153937Z"
        },
        "trusted": true
      },
      "execution_count": null,
      "outputs": []
    },
    {
      "cell_type": "code",
      "source": [
        "sns.kdeplot(df , x='WarehouseToHome')"
      ],
      "metadata": {
        "id": "CS6ONaTGJn0W",
        "execution": {
          "iopub.status.busy": "2023-09-24T15:57:08.157122Z",
          "iopub.execute_input": "2023-09-24T15:57:08.157559Z",
          "iopub.status.idle": "2023-09-24T15:57:08.473086Z",
          "shell.execute_reply.started": "2023-09-24T15:57:08.157517Z",
          "shell.execute_reply": "2023-09-24T15:57:08.472013Z"
        },
        "trusted": true
      },
      "execution_count": null,
      "outputs": []
    },
    {
      "cell_type": "code",
      "source": [
        "df['WarehouseToHome'].isnull().sum()"
      ],
      "metadata": {
        "id": "1l7RoGQ_Jn-u",
        "execution": {
          "iopub.status.busy": "2023-09-24T15:57:08.474593Z",
          "iopub.execute_input": "2023-09-24T15:57:08.475298Z",
          "iopub.status.idle": "2023-09-24T15:57:08.482836Z",
          "shell.execute_reply.started": "2023-09-24T15:57:08.475258Z",
          "shell.execute_reply": "2023-09-24T15:57:08.482037Z"
        },
        "trusted": true
      },
      "execution_count": null,
      "outputs": []
    },
    {
      "cell_type": "markdown",
      "source": [
        "---------------------------------------------------"
      ],
      "metadata": {
        "id": "hydzijhSGCSH"
      }
    },
    {
      "cell_type": "code",
      "source": [
        "sns.kdeplot(df , x='HourSpendOnApp')"
      ],
      "metadata": {
        "id": "G5SZAOpfF8Vr",
        "execution": {
          "iopub.status.busy": "2023-09-24T15:57:08.484221Z",
          "iopub.execute_input": "2023-09-24T15:57:08.485018Z",
          "iopub.status.idle": "2023-09-24T15:57:08.788487Z",
          "shell.execute_reply.started": "2023-09-24T15:57:08.484989Z",
          "shell.execute_reply": "2023-09-24T15:57:08.787323Z"
        },
        "trusted": true
      },
      "execution_count": null,
      "outputs": []
    },
    {
      "cell_type": "code",
      "source": [
        "fill_list = df['HourSpendOnApp'].dropna()\n",
        "df['HourSpendOnApp'] = df['HourSpendOnApp'].fillna(pd.Series(np.random.choice(fill_list , size = len(df['HourSpendOnApp'].index))))"
      ],
      "metadata": {
        "id": "BTd95Oc2I_Rf",
        "execution": {
          "iopub.status.busy": "2023-09-24T15:57:08.790027Z",
          "iopub.execute_input": "2023-09-24T15:57:08.790425Z",
          "iopub.status.idle": "2023-09-24T15:57:08.79829Z",
          "shell.execute_reply.started": "2023-09-24T15:57:08.790381Z",
          "shell.execute_reply": "2023-09-24T15:57:08.797015Z"
        },
        "trusted": true
      },
      "execution_count": null,
      "outputs": []
    },
    {
      "cell_type": "code",
      "source": [
        "sns.kdeplot(df , x='HourSpendOnApp')"
      ],
      "metadata": {
        "id": "C8tef905JHko",
        "execution": {
          "iopub.status.busy": "2023-09-24T15:57:08.799843Z",
          "iopub.execute_input": "2023-09-24T15:57:08.800271Z",
          "iopub.status.idle": "2023-09-24T15:57:09.111871Z",
          "shell.execute_reply.started": "2023-09-24T15:57:08.800234Z",
          "shell.execute_reply": "2023-09-24T15:57:09.11077Z"
        },
        "trusted": true
      },
      "execution_count": null,
      "outputs": []
    },
    {
      "cell_type": "code",
      "source": [
        "df['HourSpendOnApp'].isnull().sum()"
      ],
      "metadata": {
        "id": "MT3I2twQJJBm",
        "execution": {
          "iopub.status.busy": "2023-09-24T15:57:09.113222Z",
          "iopub.execute_input": "2023-09-24T15:57:09.114183Z",
          "iopub.status.idle": "2023-09-24T15:57:09.121471Z",
          "shell.execute_reply.started": "2023-09-24T15:57:09.114142Z",
          "shell.execute_reply": "2023-09-24T15:57:09.120326Z"
        },
        "trusted": true
      },
      "execution_count": null,
      "outputs": []
    },
    {
      "cell_type": "markdown",
      "source": [
        "-------------------------------------------------------"
      ],
      "metadata": {
        "id": "V-AVUIOoJRPO"
      }
    },
    {
      "cell_type": "code",
      "source": [
        "sns.kdeplot(df , x='OrderAmountHikeFromlastYear')"
      ],
      "metadata": {
        "id": "lxpvFpknJQg3",
        "execution": {
          "iopub.status.busy": "2023-09-24T15:57:09.122724Z",
          "iopub.execute_input": "2023-09-24T15:57:09.123354Z",
          "iopub.status.idle": "2023-09-24T15:57:09.437994Z",
          "shell.execute_reply.started": "2023-09-24T15:57:09.123314Z",
          "shell.execute_reply": "2023-09-24T15:57:09.436925Z"
        },
        "trusted": true
      },
      "execution_count": null,
      "outputs": []
    },
    {
      "cell_type": "code",
      "source": [
        "# impute with ffill method\n",
        "df['OrderAmountHikeFromlastYear'] = df['OrderAmountHikeFromlastYear'].fillna(method = 'ffill')"
      ],
      "metadata": {
        "id": "7AF7Yw4rLr5N",
        "execution": {
          "iopub.status.busy": "2023-09-24T15:57:09.439346Z",
          "iopub.execute_input": "2023-09-24T15:57:09.440099Z",
          "iopub.status.idle": "2023-09-24T15:57:09.446572Z",
          "shell.execute_reply.started": "2023-09-24T15:57:09.440058Z",
          "shell.execute_reply": "2023-09-24T15:57:09.445179Z"
        },
        "trusted": true
      },
      "execution_count": null,
      "outputs": []
    },
    {
      "cell_type": "code",
      "source": [
        "sns.kdeplot(df , x='OrderAmountHikeFromlastYear')"
      ],
      "metadata": {
        "id": "q6DfeuslLsA_",
        "execution": {
          "iopub.status.busy": "2023-09-24T15:57:09.447954Z",
          "iopub.execute_input": "2023-09-24T15:57:09.448322Z",
          "iopub.status.idle": "2023-09-24T15:57:09.777024Z",
          "shell.execute_reply.started": "2023-09-24T15:57:09.448293Z",
          "shell.execute_reply": "2023-09-24T15:57:09.775904Z"
        },
        "trusted": true
      },
      "execution_count": null,
      "outputs": []
    },
    {
      "cell_type": "code",
      "source": [
        "df['OrderAmountHikeFromlastYear'].isnull().sum()"
      ],
      "metadata": {
        "id": "hn1FrnlgMGvI",
        "execution": {
          "iopub.status.busy": "2023-09-24T15:57:09.778664Z",
          "iopub.execute_input": "2023-09-24T15:57:09.779466Z",
          "iopub.status.idle": "2023-09-24T15:57:09.786116Z",
          "shell.execute_reply.started": "2023-09-24T15:57:09.779432Z",
          "shell.execute_reply": "2023-09-24T15:57:09.785265Z"
        },
        "trusted": true
      },
      "execution_count": null,
      "outputs": []
    },
    {
      "cell_type": "markdown",
      "source": [
        "--------------------------------------------"
      ],
      "metadata": {
        "id": "T3odBaBvMOwV"
      }
    },
    {
      "cell_type": "code",
      "source": [
        "sns.kdeplot(df , x='CouponUsed')"
      ],
      "metadata": {
        "id": "z5hHNttbMRc9",
        "execution": {
          "iopub.status.busy": "2023-09-24T15:57:09.787097Z",
          "iopub.execute_input": "2023-09-24T15:57:09.787886Z",
          "iopub.status.idle": "2023-09-24T15:57:10.091424Z",
          "shell.execute_reply.started": "2023-09-24T15:57:09.787857Z",
          "shell.execute_reply": "2023-09-24T15:57:10.090664Z"
        },
        "trusted": true
      },
      "execution_count": null,
      "outputs": []
    },
    {
      "cell_type": "code",
      "source": [
        "# Impute with KNN Imputer\n",
        "from sklearn.impute import KNNImputer\n",
        "imputer = KNNImputer(n_neighbors=2)\n",
        "df['CouponUsed']=imputer.fit_transform(df[['CouponUsed']])"
      ],
      "metadata": {
        "id": "cNdtrNxjNWcl",
        "execution": {
          "iopub.status.busy": "2023-09-24T15:57:10.092417Z",
          "iopub.execute_input": "2023-09-24T15:57:10.093109Z",
          "iopub.status.idle": "2023-09-24T15:57:10.178855Z",
          "shell.execute_reply.started": "2023-09-24T15:57:10.09308Z",
          "shell.execute_reply": "2023-09-24T15:57:10.177627Z"
        },
        "trusted": true
      },
      "execution_count": null,
      "outputs": []
    },
    {
      "cell_type": "code",
      "source": [
        "sns.kdeplot(df , x='CouponUsed')"
      ],
      "metadata": {
        "id": "7zWx8l79NWis",
        "execution": {
          "iopub.status.busy": "2023-09-24T15:57:10.180624Z",
          "iopub.execute_input": "2023-09-24T15:57:10.181472Z",
          "iopub.status.idle": "2023-09-24T15:57:10.486366Z",
          "shell.execute_reply.started": "2023-09-24T15:57:10.181424Z",
          "shell.execute_reply": "2023-09-24T15:57:10.485243Z"
        },
        "trusted": true
      },
      "execution_count": null,
      "outputs": []
    },
    {
      "cell_type": "code",
      "source": [
        "df['CouponUsed'].isnull().sum()"
      ],
      "metadata": {
        "id": "EM_p_NMsNnNr",
        "execution": {
          "iopub.status.busy": "2023-09-24T15:57:10.487781Z",
          "iopub.execute_input": "2023-09-24T15:57:10.48889Z",
          "iopub.status.idle": "2023-09-24T15:57:10.497088Z",
          "shell.execute_reply.started": "2023-09-24T15:57:10.488847Z",
          "shell.execute_reply": "2023-09-24T15:57:10.496083Z"
        },
        "trusted": true
      },
      "execution_count": null,
      "outputs": []
    },
    {
      "cell_type": "markdown",
      "source": [
        "--------------------------------------------"
      ],
      "metadata": {
        "id": "sfzEk3UxNrN2"
      }
    },
    {
      "cell_type": "code",
      "source": [
        "sns.kdeplot(df , x='OrderCount')"
      ],
      "metadata": {
        "id": "tFSXs6bONsPZ",
        "execution": {
          "iopub.status.busy": "2023-09-24T15:57:10.498324Z",
          "iopub.execute_input": "2023-09-24T15:57:10.499101Z",
          "iopub.status.idle": "2023-09-24T15:57:10.801485Z",
          "shell.execute_reply.started": "2023-09-24T15:57:10.49907Z",
          "shell.execute_reply": "2023-09-24T15:57:10.800401Z"
        },
        "trusted": true
      },
      "execution_count": null,
      "outputs": []
    },
    {
      "cell_type": "code",
      "source": [
        "# Impute with KNN imputer\n",
        "imputer_2 = KNNImputer(n_neighbors=2)\n",
        "df['OrderCount']=imputer_2.fit_transform(df[['OrderCount']])"
      ],
      "metadata": {
        "id": "XMtuDspcOFeb",
        "execution": {
          "iopub.status.busy": "2023-09-24T15:57:10.802857Z",
          "iopub.execute_input": "2023-09-24T15:57:10.803858Z",
          "iopub.status.idle": "2023-09-24T15:57:10.877688Z",
          "shell.execute_reply.started": "2023-09-24T15:57:10.803818Z",
          "shell.execute_reply": "2023-09-24T15:57:10.876357Z"
        },
        "trusted": true
      },
      "execution_count": null,
      "outputs": []
    },
    {
      "cell_type": "code",
      "source": [
        "sns.kdeplot(df , x='OrderCount')"
      ],
      "metadata": {
        "id": "tfl5fhHJOFw9",
        "execution": {
          "iopub.status.busy": "2023-09-24T15:57:10.882885Z",
          "iopub.execute_input": "2023-09-24T15:57:10.883429Z",
          "iopub.status.idle": "2023-09-24T15:57:11.205498Z",
          "shell.execute_reply.started": "2023-09-24T15:57:10.883378Z",
          "shell.execute_reply": "2023-09-24T15:57:11.204427Z"
        },
        "trusted": true
      },
      "execution_count": null,
      "outputs": []
    },
    {
      "cell_type": "code",
      "source": [
        "df['OrderCount'].isnull().sum()"
      ],
      "metadata": {
        "id": "nbxLaL3ZOO4r",
        "execution": {
          "iopub.status.busy": "2023-09-24T15:57:11.207009Z",
          "iopub.execute_input": "2023-09-24T15:57:11.207624Z",
          "iopub.status.idle": "2023-09-24T15:57:11.214371Z",
          "shell.execute_reply.started": "2023-09-24T15:57:11.207584Z",
          "shell.execute_reply": "2023-09-24T15:57:11.213698Z"
        },
        "trusted": true
      },
      "execution_count": null,
      "outputs": []
    },
    {
      "cell_type": "markdown",
      "source": [
        "----------------------------------"
      ],
      "metadata": {
        "id": "w01MZyt7Ob_0"
      }
    },
    {
      "cell_type": "code",
      "source": [
        "sns.kdeplot(df , x='DaySinceLastOrder')"
      ],
      "metadata": {
        "id": "25h1hwASObFi",
        "execution": {
          "iopub.status.busy": "2023-09-24T15:57:11.215723Z",
          "iopub.execute_input": "2023-09-24T15:57:11.216249Z",
          "iopub.status.idle": "2023-09-24T15:57:11.526462Z",
          "shell.execute_reply.started": "2023-09-24T15:57:11.21622Z",
          "shell.execute_reply": "2023-09-24T15:57:11.525417Z"
        },
        "trusted": true
      },
      "execution_count": null,
      "outputs": []
    },
    {
      "cell_type": "code",
      "source": [
        "# impute with bfill Method\n",
        "df['DaySinceLastOrder'] = df['DaySinceLastOrder'].fillna(method = 'bfill')"
      ],
      "metadata": {
        "id": "PYjJyBtlOknj",
        "execution": {
          "iopub.status.busy": "2023-09-24T15:57:11.52797Z",
          "iopub.execute_input": "2023-09-24T15:57:11.528288Z",
          "iopub.status.idle": "2023-09-24T15:57:11.533757Z",
          "shell.execute_reply.started": "2023-09-24T15:57:11.52826Z",
          "shell.execute_reply": "2023-09-24T15:57:11.532703Z"
        },
        "trusted": true
      },
      "execution_count": null,
      "outputs": []
    },
    {
      "cell_type": "code",
      "source": [
        "sns.kdeplot(df , x='DaySinceLastOrder')"
      ],
      "metadata": {
        "id": "xDy40njHOkxA",
        "execution": {
          "iopub.status.busy": "2023-09-24T15:57:11.535362Z",
          "iopub.execute_input": "2023-09-24T15:57:11.53586Z",
          "iopub.status.idle": "2023-09-24T15:57:11.855206Z",
          "shell.execute_reply.started": "2023-09-24T15:57:11.53582Z",
          "shell.execute_reply": "2023-09-24T15:57:11.854084Z"
        },
        "trusted": true
      },
      "execution_count": null,
      "outputs": []
    },
    {
      "cell_type": "code",
      "source": [
        "df['DaySinceLastOrder'].isnull().sum()"
      ],
      "metadata": {
        "id": "6EIQrwO6O-E7",
        "execution": {
          "iopub.status.busy": "2023-09-24T15:57:11.856428Z",
          "iopub.execute_input": "2023-09-24T15:57:11.856733Z",
          "iopub.status.idle": "2023-09-24T15:57:11.864722Z",
          "shell.execute_reply.started": "2023-09-24T15:57:11.856706Z",
          "shell.execute_reply": "2023-09-24T15:57:11.863661Z"
        },
        "trusted": true
      },
      "execution_count": null,
      "outputs": []
    },
    {
      "cell_type": "code",
      "source": [
        "# After we Checked the data the Customer ID Column not important for our Models so We drop it\n",
        "df.drop('CustomerID' , axis = 1 , inplace = True)"
      ],
      "metadata": {
        "id": "n9fwD4_BPlhC",
        "execution": {
          "iopub.status.busy": "2023-09-24T15:57:11.865934Z",
          "iopub.execute_input": "2023-09-24T15:57:11.866235Z",
          "iopub.status.idle": "2023-09-24T15:57:11.877367Z",
          "shell.execute_reply.started": "2023-09-24T15:57:11.866207Z",
          "shell.execute_reply": "2023-09-24T15:57:11.876318Z"
        },
        "trusted": true
      },
      "execution_count": null,
      "outputs": []
    },
    {
      "cell_type": "code",
      "source": [
        "df.shape"
      ],
      "metadata": {
        "id": "YQ1vk7wvQAGi",
        "execution": {
          "iopub.status.busy": "2023-09-24T15:57:11.878919Z",
          "iopub.execute_input": "2023-09-24T15:57:11.87934Z",
          "iopub.status.idle": "2023-09-24T15:57:11.891313Z",
          "shell.execute_reply.started": "2023-09-24T15:57:11.879301Z",
          "shell.execute_reply": "2023-09-24T15:57:11.890234Z"
        },
        "trusted": true
      },
      "execution_count": null,
      "outputs": []
    },
    {
      "cell_type": "markdown",
      "source": [
        "#### We Handled Mssing Values"
      ],
      "metadata": {
        "id": "AF4K9KwEPEnM"
      }
    },
    {
      "cell_type": "markdown",
      "source": [
        "## Encoding"
      ],
      "metadata": {
        "id": "FPa-jJAQVkp2"
      }
    },
    {
      "cell_type": "code",
      "source": [
        "# check before encoding that my catogries for my columns are limited\n",
        "for i in df.columns:\n",
        "    if df[i].dtype == 'object':\n",
        "        print(df[i].value_counts())\n",
        "        print('*' * 40)\n"
      ],
      "metadata": {
        "id": "XVsKIcdgWRcB",
        "execution": {
          "iopub.status.busy": "2023-09-24T15:57:11.892677Z",
          "iopub.execute_input": "2023-09-24T15:57:11.893083Z",
          "iopub.status.idle": "2023-09-24T15:57:11.911042Z",
          "shell.execute_reply.started": "2023-09-24T15:57:11.892973Z",
          "shell.execute_reply": "2023-09-24T15:57:11.910073Z"
        },
        "trusted": true
      },
      "execution_count": null,
      "outputs": []
    },
    {
      "cell_type": "code",
      "source": [
        "# cat columns\n",
        "data = df[df.select_dtypes(exclude=np.number).columns]\n",
        "data"
      ],
      "metadata": {
        "id": "dSANg4cje-wT",
        "execution": {
          "iopub.status.busy": "2023-09-24T15:57:11.91216Z",
          "iopub.execute_input": "2023-09-24T15:57:11.912445Z",
          "iopub.status.idle": "2023-09-24T15:57:11.927151Z",
          "shell.execute_reply.started": "2023-09-24T15:57:11.91242Z",
          "shell.execute_reply": "2023-09-24T15:57:11.926461Z"
        },
        "trusted": true
      },
      "execution_count": null,
      "outputs": []
    },
    {
      "cell_type": "code",
      "source": [
        "le = LabelEncoder()"
      ],
      "metadata": {
        "id": "Uw4i72gsWW_X",
        "execution": {
          "iopub.status.busy": "2023-09-24T15:57:11.928663Z",
          "iopub.execute_input": "2023-09-24T15:57:11.928964Z",
          "iopub.status.idle": "2023-09-24T15:57:11.933566Z",
          "shell.execute_reply.started": "2023-09-24T15:57:11.928938Z",
          "shell.execute_reply": "2023-09-24T15:57:11.932526Z"
        },
        "trusted": true
      },
      "execution_count": null,
      "outputs": []
    },
    {
      "cell_type": "code",
      "source": [
        "# Encode for cat_cols\n",
        "for i in df.columns:\n",
        "  if df[i].dtype == 'object':\n",
        "    df[i] = le.fit_transform(df[i])\n",
        "\n",
        "df.head(4)"
      ],
      "metadata": {
        "id": "tIcNJHZkVruW",
        "execution": {
          "iopub.status.busy": "2023-09-24T15:57:11.935194Z",
          "iopub.execute_input": "2023-09-24T15:57:11.935902Z",
          "iopub.status.idle": "2023-09-24T15:57:11.976887Z",
          "shell.execute_reply.started": "2023-09-24T15:57:11.935862Z",
          "shell.execute_reply": "2023-09-24T15:57:11.975661Z"
        },
        "trusted": true
      },
      "execution_count": null,
      "outputs": []
    },
    {
      "cell_type": "code",
      "source": [
        "for i in data.columns:\n",
        "    data[i] = le.fit_transform(data[i])\n",
        "\n",
        "data.head(4)"
      ],
      "metadata": {
        "id": "FjWFBuagjQpZ",
        "execution": {
          "iopub.status.busy": "2023-09-24T15:57:11.978262Z",
          "iopub.execute_input": "2023-09-24T15:57:11.978616Z",
          "iopub.status.idle": "2023-09-24T15:57:12.003816Z",
          "shell.execute_reply.started": "2023-09-24T15:57:11.978587Z",
          "shell.execute_reply": "2023-09-24T15:57:12.001996Z"
        },
        "trusted": true
      },
      "execution_count": null,
      "outputs": []
    },
    {
      "cell_type": "markdown",
      "source": [
        "## Handling Outliers"
      ],
      "metadata": {
        "id": "6AT1apjKPObQ"
      }
    },
    {
      "cell_type": "code",
      "source": [
        "df.dtypes"
      ],
      "metadata": {
        "id": "i0i6PRAzVImc",
        "execution": {
          "iopub.status.busy": "2023-09-24T15:57:12.0057Z",
          "iopub.execute_input": "2023-09-24T15:57:12.006124Z",
          "iopub.status.idle": "2023-09-24T15:57:12.024062Z",
          "shell.execute_reply.started": "2023-09-24T15:57:12.006089Z",
          "shell.execute_reply": "2023-09-24T15:57:12.02266Z"
        },
        "trusted": true
      },
      "execution_count": null,
      "outputs": []
    },
    {
      "cell_type": "code",
      "source": [
        "fig = plt.figure(figsize=(12,18))\n",
        "for i in range(len(df.columns)):\n",
        "    fig.add_subplot(9,4,i+1)\n",
        "    sns.boxplot(y=df.iloc[:,i])\n",
        "\n",
        "plt.tight_layout()\n",
        "plt.show()"
      ],
      "metadata": {
        "id": "_p35xpQaPNC4",
        "execution": {
          "iopub.status.busy": "2023-09-24T15:57:12.025715Z",
          "iopub.execute_input": "2023-09-24T15:57:12.026081Z",
          "iopub.status.idle": "2023-09-24T15:57:14.552441Z",
          "shell.execute_reply.started": "2023-09-24T15:57:12.026049Z",
          "shell.execute_reply": "2023-09-24T15:57:14.551406Z"
        },
        "trusted": true
      },
      "execution_count": null,
      "outputs": []
    },
    {
      "cell_type": "code",
      "source": [
        "# lets detect True Outliers\n",
        "def handle_outliers(df , column_name):\n",
        "  Q1 = df[column_name].quantile(0.25)\n",
        "  Q3 = df[column_name].quantile(0.75)\n",
        "  IQR = Q3 - Q1\n",
        "\n",
        "  # Define Upper and lower boundaries\n",
        "  Upper = Q3 + IQR * 1.5\n",
        "  lower = Q1 - IQR * 1.5\n",
        "\n",
        "  # lets make filter for col values\n",
        "  new_df = df[ (df[column_name] > lower) & (df[column_name] < Upper) ]\n",
        "\n",
        "  return new_df"
      ],
      "metadata": {
        "id": "wN0FiaIGXtM-",
        "execution": {
          "iopub.status.busy": "2023-09-24T15:57:14.554065Z",
          "iopub.execute_input": "2023-09-24T15:57:14.554683Z",
          "iopub.status.idle": "2023-09-24T15:57:14.561537Z",
          "shell.execute_reply.started": "2023-09-24T15:57:14.554648Z",
          "shell.execute_reply": "2023-09-24T15:57:14.560445Z"
        },
        "trusted": true
      },
      "execution_count": null,
      "outputs": []
    },
    {
      "cell_type": "code",
      "source": [
        "df.columns"
      ],
      "metadata": {
        "id": "P0rCnsKximkA",
        "execution": {
          "iopub.status.busy": "2023-09-24T15:57:14.563089Z",
          "iopub.execute_input": "2023-09-24T15:57:14.563767Z",
          "iopub.status.idle": "2023-09-24T15:57:14.583168Z",
          "shell.execute_reply.started": "2023-09-24T15:57:14.563729Z",
          "shell.execute_reply": "2023-09-24T15:57:14.582406Z"
        },
        "trusted": true
      },
      "execution_count": null,
      "outputs": []
    },
    {
      "cell_type": "code",
      "source": [
        "# lets Give our Functions columns contains outlier\n",
        "cols_outliers = ['Tenure' , 'WarehouseToHome' , 'NumberOfAddress' , 'DaySinceLastOrder' , 'HourSpendOnApp' , 'NumberOfDeviceRegistered']\n",
        "\n",
        "for col in cols_outliers:\n",
        "    df = handle_outliers(df , col)\n",
        "\n",
        "df.head(4)"
      ],
      "metadata": {
        "id": "sH-JAYRmXtWW",
        "execution": {
          "iopub.status.busy": "2023-09-24T15:57:14.584787Z",
          "iopub.execute_input": "2023-09-24T15:57:14.585534Z",
          "iopub.status.idle": "2023-09-24T15:57:14.630328Z",
          "shell.execute_reply.started": "2023-09-24T15:57:14.585494Z",
          "shell.execute_reply": "2023-09-24T15:57:14.628254Z"
        },
        "trusted": true
      },
      "execution_count": null,
      "outputs": []
    },
    {
      "cell_type": "code",
      "source": [
        "fig = plt.figure(figsize=(12,18))\n",
        "for i in range(len(df.columns)):\n",
        "    fig.add_subplot(9,4,i+1)\n",
        "    sns.boxplot(y=df.iloc[:,i])\n",
        "\n",
        "plt.tight_layout()\n",
        "plt.show()"
      ],
      "metadata": {
        "id": "fSW_T5mJlfOI",
        "execution": {
          "iopub.status.busy": "2023-09-24T15:57:14.631757Z",
          "iopub.execute_input": "2023-09-24T15:57:14.632919Z",
          "iopub.status.idle": "2023-09-24T15:57:16.682691Z",
          "shell.execute_reply.started": "2023-09-24T15:57:14.632875Z",
          "shell.execute_reply": "2023-09-24T15:57:16.68163Z"
        },
        "trusted": true
      },
      "execution_count": null,
      "outputs": []
    },
    {
      "cell_type": "markdown",
      "source": [
        "#### we made Trim on cols that contains outliers but after we check we saw many inforamtion deleted so we made Trimming only on cols that not conatins many outliers"
      ],
      "metadata": {
        "id": "3Gb4G_U5o2nQ"
      }
    },
    {
      "cell_type": "code",
      "source": [
        "corr_matrix = df.corr()\n",
        "corr_matrix"
      ],
      "metadata": {
        "id": "G1Es0ASG-qUk",
        "execution": {
          "iopub.status.busy": "2023-09-24T15:57:16.684078Z",
          "iopub.execute_input": "2023-09-24T15:57:16.684439Z",
          "iopub.status.idle": "2023-09-24T15:57:16.724521Z",
          "shell.execute_reply.started": "2023-09-24T15:57:16.684385Z",
          "shell.execute_reply": "2023-09-24T15:57:16.722585Z"
        },
        "trusted": true
      },
      "execution_count": null,
      "outputs": []
    },
    {
      "cell_type": "code",
      "source": [
        "plt.figure(figsize = (18,15))\n",
        "sns.heatmap(df.corr() , annot = True , cmap = 'Blues')"
      ],
      "metadata": {
        "id": "donTzRSg5IVV",
        "execution": {
          "iopub.status.busy": "2023-09-24T15:57:16.726098Z",
          "iopub.execute_input": "2023-09-24T15:57:16.726641Z",
          "iopub.status.idle": "2023-09-24T15:57:18.353096Z",
          "shell.execute_reply.started": "2023-09-24T15:57:16.726598Z",
          "shell.execute_reply": "2023-09-24T15:57:18.351937Z"
        },
        "trusted": true
      },
      "execution_count": null,
      "outputs": []
    },
    {
      "cell_type": "code",
      "source": [
        "churn_corr_vector = corr_matrix['Churn'].sort_values(ascending = False)\n",
        "churn_corr_vector"
      ],
      "metadata": {
        "id": "knSuNrH4-wDI",
        "execution": {
          "iopub.status.busy": "2023-09-24T15:57:18.354576Z",
          "iopub.execute_input": "2023-09-24T15:57:18.354987Z",
          "iopub.status.idle": "2023-09-24T15:57:18.364871Z",
          "shell.execute_reply.started": "2023-09-24T15:57:18.35495Z",
          "shell.execute_reply": "2023-09-24T15:57:18.363852Z"
        },
        "trusted": true
      },
      "execution_count": null,
      "outputs": []
    },
    {
      "cell_type": "code",
      "source": [
        "plt.figure(figsize = (10,10))\n",
        "sns.barplot(x = churn_corr_vector , y = churn_corr_vector.index , palette = 'coolwarm')\n",
        "plt.title('Relation Between Features and target')"
      ],
      "metadata": {
        "id": "mWaGQTJ-_Hb6",
        "execution": {
          "iopub.status.busy": "2023-09-24T15:57:18.366358Z",
          "iopub.execute_input": "2023-09-24T15:57:18.366785Z",
          "iopub.status.idle": "2023-09-24T15:57:18.856862Z",
          "shell.execute_reply.started": "2023-09-24T15:57:18.366747Z",
          "shell.execute_reply": "2023-09-24T15:57:18.855814Z"
        },
        "trusted": true
      },
      "execution_count": null,
      "outputs": []
    },
    {
      "cell_type": "code",
      "source": [
        "fig = px.histogram(df2, x=\"Churn\", color=\"Churn\" ,text_auto= True , title=\"<b>\"+'Check Imbalance' , color_discrete_sequence = ['#BA1F33','#3A506B'])\n",
        "\n",
        "# Customize the plot\n",
        "fig.update_layout(hovermode='x',title_font_size=30)\n",
        "fig.update_layout(\n",
        "title_font_color=\"black\",\n",
        "template=\"plotly\",\n",
        "title_font_size=30,\n",
        "hoverlabel_font_size=20,\n",
        "title_x=0.5,\n",
        "xaxis_title='Churn',\n",
        "yaxis_title='count',\n",
        ")\n",
        "fig.show()"
      ],
      "metadata": {
        "id": "IjtsGeSvACJ1",
        "execution": {
          "iopub.status.busy": "2023-09-24T15:57:18.858605Z",
          "iopub.execute_input": "2023-09-24T15:57:18.858995Z",
          "iopub.status.idle": "2023-09-24T15:57:18.969474Z",
          "shell.execute_reply.started": "2023-09-24T15:57:18.858953Z",
          "shell.execute_reply": "2023-09-24T15:57:18.968428Z"
        },
        "trusted": true
      },
      "execution_count": null,
      "outputs": []
    },
    {
      "cell_type": "markdown",
      "source": [
        "#### Our Data Imbalanced so lets make Over sample for it Using SMOTETomek"
      ],
      "metadata": {
        "id": "dmoKiClFB2Wh"
      }
    },
    {
      "cell_type": "markdown",
      "source": [
        "## Handling Imbalanced Data"
      ],
      "metadata": {
        "id": "2lnOY7lySL-1"
      }
    },
    {
      "cell_type": "code",
      "source": [
        "X = df.drop('Churn' , axis = 1)\n",
        "Y = df['Churn']"
      ],
      "metadata": {
        "id": "HJEfLBSc0bE7",
        "execution": {
          "iopub.status.busy": "2023-09-24T15:57:18.971001Z",
          "iopub.execute_input": "2023-09-24T15:57:18.971405Z",
          "iopub.status.idle": "2023-09-24T15:57:18.977985Z",
          "shell.execute_reply.started": "2023-09-24T15:57:18.971353Z",
          "shell.execute_reply": "2023-09-24T15:57:18.976959Z"
        },
        "trusted": true
      },
      "execution_count": null,
      "outputs": []
    },
    {
      "cell_type": "code",
      "source": [
        "from imblearn.combine import SMOTETomek"
      ],
      "metadata": {
        "id": "lj76HPB-BqCh",
        "execution": {
          "iopub.status.busy": "2023-09-24T15:57:18.979472Z",
          "iopub.execute_input": "2023-09-24T15:57:18.97984Z",
          "iopub.status.idle": "2023-09-24T15:57:19.168795Z",
          "shell.execute_reply.started": "2023-09-24T15:57:18.979806Z",
          "shell.execute_reply": "2023-09-24T15:57:19.167723Z"
        },
        "trusted": true
      },
      "execution_count": null,
      "outputs": []
    },
    {
      "cell_type": "code",
      "source": [
        "smt = SMOTETomek(random_state=42)\n",
        "x_over , y_over = smt.fit_resample(X , Y)"
      ],
      "metadata": {
        "id": "d2isB20J0L4H",
        "execution": {
          "iopub.status.busy": "2023-09-24T15:57:19.170246Z",
          "iopub.execute_input": "2023-09-24T15:57:19.171164Z",
          "iopub.status.idle": "2023-09-24T15:57:19.401892Z",
          "shell.execute_reply.started": "2023-09-24T15:57:19.171123Z",
          "shell.execute_reply": "2023-09-24T15:57:19.401099Z"
        },
        "trusted": true
      },
      "execution_count": null,
      "outputs": []
    },
    {
      "cell_type": "code",
      "source": [
        "x_over.shape, y_over.shape"
      ],
      "metadata": {
        "id": "_rGCmFAK0L7D",
        "execution": {
          "iopub.status.busy": "2023-09-24T15:57:19.403047Z",
          "iopub.execute_input": "2023-09-24T15:57:19.403969Z",
          "iopub.status.idle": "2023-09-24T15:57:19.4108Z",
          "shell.execute_reply.started": "2023-09-24T15:57:19.403907Z",
          "shell.execute_reply": "2023-09-24T15:57:19.4098Z"
        },
        "trusted": true
      },
      "execution_count": null,
      "outputs": []
    },
    {
      "cell_type": "markdown",
      "source": [
        "## Split Data"
      ],
      "metadata": {
        "id": "Gp7mHkrj2Oqm"
      }
    },
    {
      "cell_type": "code",
      "source": [
        "x_train , x_test , y_train , y_test = train_test_split(x_over , y_over , test_size = 0.30 , random_state = 42)"
      ],
      "metadata": {
        "id": "irKjgZy_14T5",
        "execution": {
          "iopub.status.busy": "2023-09-24T15:57:19.412068Z",
          "iopub.execute_input": "2023-09-24T15:57:19.412376Z",
          "iopub.status.idle": "2023-09-24T15:57:19.42601Z",
          "shell.execute_reply.started": "2023-09-24T15:57:19.412339Z",
          "shell.execute_reply": "2023-09-24T15:57:19.424936Z"
        },
        "trusted": true
      },
      "execution_count": null,
      "outputs": []
    },
    {
      "cell_type": "code",
      "source": [
        "# Now we  will make normalization for all data to make them in commom range\n",
        "from sklearn.preprocessing import MinMaxScaler , StandardScaler , RobustScaler\n",
        "\n",
        "MN = MinMaxScaler()\n",
        "# SC = StandardScaler()\n",
        "# Rb = RobustScaler()\n",
        "x_train_scaled = MN.fit_transform(x_train)\n",
        "x_test_scaled = MN.fit_transform(x_test)"
      ],
      "metadata": {
        "id": "-tEwW01tpT10",
        "execution": {
          "iopub.status.busy": "2023-09-24T15:57:19.427471Z",
          "iopub.execute_input": "2023-09-24T15:57:19.427771Z",
          "iopub.status.idle": "2023-09-24T15:57:19.445365Z",
          "shell.execute_reply.started": "2023-09-24T15:57:19.427746Z",
          "shell.execute_reply": "2023-09-24T15:57:19.44442Z"
        },
        "trusted": true
      },
      "execution_count": null,
      "outputs": []
    },
    {
      "cell_type": "markdown",
      "source": [
        "<a id=\"Modeling\"></a>\n",
        "<h1 style='background:#F5F5DC;border:0; color:black;\n",
        "    box-shadow: 10px 10px 5px 0px rgba(0,0,0,0.75);\n",
        "    transform: rotateX(10deg);\n",
        "    '><center>Modeling</center></h1>"
      ],
      "metadata": {
        "id": "A4CSZaYg20XI"
      }
    },
    {
      "cell_type": "code",
      "source": [
        "from sklearn.linear_model import LogisticRegression\n",
        "from sklearn.neighbors import KNeighborsClassifier\n",
        "from sklearn.svm import SVC\n",
        "from sklearn.tree import DecisionTreeClassifier\n",
        "from sklearn.ensemble import RandomForestClassifier\n",
        "from xgboost import XGBClassifier\n",
        "from sklearn.ensemble import AdaBoostClassifier\n",
        "import warnings\n",
        "\n",
        "warnings.filterwarnings(\"ignore\")"
      ],
      "metadata": {
        "id": "9Z51N2oIjRTh",
        "execution": {
          "iopub.status.busy": "2023-09-24T15:57:19.446737Z",
          "iopub.execute_input": "2023-09-24T15:57:19.447111Z",
          "iopub.status.idle": "2023-09-24T15:57:19.453081Z",
          "shell.execute_reply.started": "2023-09-24T15:57:19.447078Z",
          "shell.execute_reply": "2023-09-24T15:57:19.452317Z"
        },
        "trusted": true
      },
      "execution_count": null,
      "outputs": []
    },
    {
      "cell_type": "code",
      "source": [
        "logisreg_clf = LogisticRegression()\n",
        "svm_clf = SVC()\n",
        "dt_clf = DecisionTreeClassifier()\n",
        "rf_clf = RandomForestClassifier()\n",
        "XGB_clf = XGBClassifier()\n",
        "ada_clf = AdaBoostClassifier()"
      ],
      "metadata": {
        "id": "WXyXpU41jYMY",
        "execution": {
          "iopub.status.busy": "2023-09-24T15:57:19.454049Z",
          "iopub.execute_input": "2023-09-24T15:57:19.45476Z",
          "iopub.status.idle": "2023-09-24T15:57:19.465869Z",
          "shell.execute_reply.started": "2023-09-24T15:57:19.45473Z",
          "shell.execute_reply": "2023-09-24T15:57:19.465148Z"
        },
        "trusted": true
      },
      "execution_count": null,
      "outputs": []
    },
    {
      "cell_type": "code",
      "source": [
        "clf_list = [logisreg_clf, svm_clf, dt_clf, rf_clf, XGB_clf, ada_clf]\n",
        "clf_name_list = ['Logistic Regression', 'Support Vector Machine', 'Decision Tree', 'Random Forest', 'XGBClassifier' , 'AdaBoostClassifier']\n",
        "\n",
        "for clf in clf_list:\n",
        "    clf.fit(x_train_scaled,y_train)"
      ],
      "metadata": {
        "id": "ahdIftrLje2D",
        "execution": {
          "iopub.status.busy": "2023-09-24T15:57:19.466832Z",
          "iopub.execute_input": "2023-09-24T15:57:19.467741Z",
          "iopub.status.idle": "2023-09-24T15:57:22.644156Z",
          "shell.execute_reply.started": "2023-09-24T15:57:19.467711Z",
          "shell.execute_reply": "2023-09-24T15:57:22.642819Z"
        },
        "trusted": true
      },
      "execution_count": null,
      "outputs": []
    },
    {
      "cell_type": "code",
      "source": [
        "train_acc_list = []\n",
        "test_acc_list = []\n",
        "\n",
        "for clf,name in zip(clf_list,clf_name_list):\n",
        "    y_pred_train = clf.predict(x_train_scaled)\n",
        "    y_pred_test = clf.predict(x_test_scaled)\n",
        "    print(f'Using model: {name}')\n",
        "    print(f'Trainning Score: {clf.score(x_train_scaled, y_train)}')\n",
        "    print(f'Test Score: {clf.score(x_test_scaled, y_test)}')\n",
        "    print(f'Acc Train: {accuracy_score(y_train, y_pred_train)}')\n",
        "    print(f'Acc Test: {accuracy_score(y_test, y_pred_test)}')\n",
        "    train_acc_list.append(accuracy_score(y_train, y_pred_train))\n",
        "    test_acc_list.append(accuracy_score(y_test, y_pred_test))\n",
        "    print(' ' * 60)\n",
        "    print('*' * 60)\n",
        "    print(' ' * 60)"
      ],
      "metadata": {
        "id": "HUWi0n-OjhdC",
        "execution": {
          "iopub.status.busy": "2023-09-24T15:57:22.645542Z",
          "iopub.execute_input": "2023-09-24T15:57:22.645892Z",
          "iopub.status.idle": "2023-09-24T15:57:26.060163Z",
          "shell.execute_reply.started": "2023-09-24T15:57:22.645862Z",
          "shell.execute_reply": "2023-09-24T15:57:26.058623Z"
        },
        "trusted": true
      },
      "execution_count": null,
      "outputs": []
    },
    {
      "cell_type": "code",
      "source": [
        "# graph to determine best 2 models\n",
        "\n",
        "all_models = pd.DataFrame({'Train_Accuarcy': train_acc_list , 'Test_Accuarcy' : test_acc_list}  , index = clf_name_list)\n",
        "all_models"
      ],
      "metadata": {
        "id": "0D8XhsRvZZVT",
        "execution": {
          "iopub.status.busy": "2023-09-24T15:57:26.061362Z",
          "iopub.execute_input": "2023-09-24T15:57:26.061674Z",
          "iopub.status.idle": "2023-09-24T15:57:26.074934Z",
          "shell.execute_reply.started": "2023-09-24T15:57:26.061646Z",
          "shell.execute_reply": "2023-09-24T15:57:26.073912Z"
        },
        "trusted": true
      },
      "execution_count": null,
      "outputs": []
    },
    {
      "cell_type": "code",
      "source": [
        "# Models vs Train Accuracies\n",
        "fig = px.bar(all_models, x=all_models['Train_Accuarcy'], y = all_models.index ,color=all_models['Train_Accuarcy'],title=\"<b>\"+'Models Vs Train Accuracies',text_auto= True , color_continuous_scale='Reds')\n",
        "fig.update_layout(hovermode='x',title_font_size=30)\n",
        "fig.update_layout(\n",
        "title_font_color=\"black\",\n",
        "template=\"plotly\",\n",
        "title_font_size=30,\n",
        "hoverlabel_font_size=20,\n",
        "title_x=0.5,\n",
        "xaxis_title='Train Sccracy',\n",
        "yaxis_title='Models Names',\n",
        ")\n",
        "fig.show()\n",
        "\n",
        "\n",
        "# Models vs Test Accuracies\n",
        "fig = px.bar(all_models, x=all_models['Test_Accuarcy'], y = all_models.index ,color=all_models['Test_Accuarcy'],title=\"<b>\"+'Models Vs Test Accuracies',text_auto= True , color_continuous_scale='Reds')\n",
        "fig.update_layout(hovermode='x',title_font_size=30)\n",
        "fig.update_layout(\n",
        "title_font_color=\"black\",\n",
        "template=\"plotly\",\n",
        "title_font_size=30,\n",
        "hoverlabel_font_size=20,\n",
        "title_x=0.5,\n",
        "xaxis_title='Test Accuarcy',\n",
        "yaxis_title='Models Names',\n",
        ")\n",
        "fig.show()"
      ],
      "metadata": {
        "id": "uo_N08MKiVNR",
        "execution": {
          "iopub.status.busy": "2023-09-24T15:57:26.07651Z",
          "iopub.execute_input": "2023-09-24T15:57:26.077221Z",
          "iopub.status.idle": "2023-09-24T15:57:26.281038Z",
          "shell.execute_reply.started": "2023-09-24T15:57:26.07718Z",
          "shell.execute_reply": "2023-09-24T15:57:26.279985Z"
        },
        "trusted": true
      },
      "execution_count": null,
      "outputs": []
    },
    {
      "cell_type": "markdown",
      "source": [
        "### from Graphs Best 2 Models in Train and Test are [ Random Forest , XGBoost]"
      ],
      "metadata": {
        "id": "UAQSth_Oq6eq"
      }
    },
    {
      "cell_type": "code",
      "source": [
        "!pip install mlxtend"
      ],
      "metadata": {
        "id": "X3rUbh06UIQK",
        "execution": {
          "iopub.status.busy": "2023-09-24T15:57:26.282369Z",
          "iopub.execute_input": "2023-09-24T15:57:26.282693Z",
          "iopub.status.idle": "2023-09-24T15:57:38.565886Z",
          "shell.execute_reply.started": "2023-09-24T15:57:26.282666Z",
          "shell.execute_reply": "2023-09-24T15:57:38.564567Z"
        },
        "trusted": true
      },
      "execution_count": null,
      "outputs": []
    },
    {
      "cell_type": "code",
      "source": [
        "from mlxtend.plotting import plot_confusion_matrix\n",
        "from sklearn.metrics import accuracy_score, roc_auc_score, classification_report, RocCurveDisplay"
      ],
      "metadata": {
        "id": "HF3ZkV3eT_s-",
        "execution": {
          "iopub.status.busy": "2023-09-24T15:57:38.567623Z",
          "iopub.execute_input": "2023-09-24T15:57:38.567961Z",
          "iopub.status.idle": "2023-09-24T15:57:38.60832Z",
          "shell.execute_reply.started": "2023-09-24T15:57:38.567929Z",
          "shell.execute_reply": "2023-09-24T15:57:38.607231Z"
        },
        "trusted": true
      },
      "execution_count": null,
      "outputs": []
    },
    {
      "cell_type": "markdown",
      "source": [
        "<a id=\"Evaluation\"></a>\n",
        "<h1 style='background:#F5F5DC;border:0; color:black;\n",
        "    box-shadow: 10px 10px 5px 0px rgba(0,0,0,0.75);\n",
        "    transform: rotateX(10deg);\n",
        "    '><center>Evaluation</center></h1>"
      ],
      "metadata": {
        "id": "noB305FtWl53"
      }
    },
    {
      "cell_type": "code",
      "source": [
        "# Logistic regression\n",
        "model= LogisticRegression()\n",
        "model.fit(x_train_scaled,y_train)\n",
        "y_pred = model.predict(x_test_scaled)\n",
        "accuracy = accuracy_score(y_test, y_pred)\n",
        "roc_auc1 = roc_auc_score(y_test, y_pred)\n",
        "print(\"Accuracy = {}\".format(accuracy))\n",
        "print(\"ROC Area under Curve = {}\".format(roc_auc1))\n",
        "print(classification_report(y_test,y_pred,digits=5))\n",
        "plot_confusion_matrix(confusion_matrix(y_test , y_pred))\n",
        "print('*' * 70)\n",
        "RocCurveDisplay.from_estimator(model , x_test_scaled , y_test)"
      ],
      "metadata": {
        "id": "JCJ4m8VnT_ul",
        "execution": {
          "iopub.status.busy": "2023-09-24T15:57:38.609768Z",
          "iopub.execute_input": "2023-09-24T15:57:38.610103Z",
          "iopub.status.idle": "2023-09-24T15:57:39.219219Z",
          "shell.execute_reply.started": "2023-09-24T15:57:38.610072Z",
          "shell.execute_reply": "2023-09-24T15:57:39.218076Z"
        },
        "trusted": true
      },
      "execution_count": null,
      "outputs": []
    },
    {
      "cell_type": "code",
      "source": [
        "# Support Vector Machine\n",
        "model=SVC()\n",
        "model.fit(x_train_scaled,y_train)\n",
        "y_pred = model.predict(x_test_scaled)\n",
        "accuracy = accuracy_score(y_test, y_pred)\n",
        "roc_auc2 = roc_auc_score(y_test, y_pred)\n",
        "print(\"Accuracy = {}\".format(accuracy))\n",
        "print(\"ROC Area under Curve = {}\".format(roc_auc2))\n",
        "print(classification_report(y_test,y_pred,digits=5))\n",
        "plot_confusion_matrix(confusion_matrix(y_test , y_pred))\n",
        "RocCurveDisplay.from_estimator(model , x_test_scaled , y_test)"
      ],
      "metadata": {
        "id": "TFLWxWMdT_xa",
        "execution": {
          "iopub.status.busy": "2023-09-24T15:57:39.220484Z",
          "iopub.execute_input": "2023-09-24T15:57:39.221283Z",
          "iopub.status.idle": "2023-09-24T15:57:41.548309Z",
          "shell.execute_reply.started": "2023-09-24T15:57:39.221252Z",
          "shell.execute_reply": "2023-09-24T15:57:41.547281Z"
        },
        "trusted": true
      },
      "execution_count": null,
      "outputs": []
    },
    {
      "cell_type": "code",
      "source": [
        "# Decision Tree\n",
        "model=DecisionTreeClassifier()\n",
        "model.fit(x_train_scaled,y_train)\n",
        "y_pred = model.predict(x_test_scaled)\n",
        "accuracy = accuracy_score(y_test, y_pred)\n",
        "roc_auc3 = roc_auc_score(y_test, y_pred)\n",
        "print(\"Accuracy = {}\".format(accuracy))\n",
        "print(\"ROC Area under Curve = {}\".format(roc_auc3))\n",
        "print(classification_report(y_test,y_pred,digits=5))\n",
        "plot_confusion_matrix(confusion_matrix(y_test , y_pred))\n",
        "RocCurveDisplay.from_estimator(model , x_test_scaled , y_test)"
      ],
      "metadata": {
        "id": "EZ2QPhL-XuMi",
        "execution": {
          "iopub.status.busy": "2023-09-24T15:57:41.549789Z",
          "iopub.execute_input": "2023-09-24T15:57:41.550104Z",
          "iopub.status.idle": "2023-09-24T15:57:42.071314Z",
          "shell.execute_reply.started": "2023-09-24T15:57:41.550075Z",
          "shell.execute_reply": "2023-09-24T15:57:42.070241Z"
        },
        "trusted": true
      },
      "execution_count": null,
      "outputs": []
    },
    {
      "cell_type": "code",
      "source": [
        "# random forest\n",
        "model=RandomForestClassifier()\n",
        "model.fit(x_train_scaled,y_train)\n",
        "y_pred = model.predict(x_test_scaled)\n",
        "accuracy = accuracy_score(y_test, y_pred)\n",
        "roc_auc4 = roc_auc_score(y_test, y_pred)\n",
        "print(\"Accuracy = {}\".format(accuracy))\n",
        "print(\"ROC Area under Curve = {}\".format(roc_auc4))\n",
        "print(classification_report(y_test,y_pred,digits=5))\n",
        "plot_confusion_matrix(confusion_matrix(y_test , y_pred))\n",
        "RocCurveDisplay.from_estimator(model , x_test_scaled , y_test)"
      ],
      "metadata": {
        "id": "nPNSu1nvNfpk",
        "execution": {
          "iopub.status.busy": "2023-09-24T15:57:42.072771Z",
          "iopub.execute_input": "2023-09-24T15:57:42.074677Z",
          "iopub.status.idle": "2023-09-24T15:57:43.644814Z",
          "shell.execute_reply.started": "2023-09-24T15:57:42.074636Z",
          "shell.execute_reply": "2023-09-24T15:57:43.643749Z"
        },
        "trusted": true
      },
      "execution_count": null,
      "outputs": []
    },
    {
      "cell_type": "code",
      "source": [
        "# XGBoost\n",
        "model=XGBClassifier()\n",
        "model.fit(x_train_scaled,y_train)\n",
        "y_pred = model.predict(x_test_scaled)\n",
        "accuracy = accuracy_score(y_test, y_pred)\n",
        "roc_auc5 = roc_auc_score(y_test, y_pred)\n",
        "print(\"Accuracy = {}\".format(accuracy))\n",
        "print(\"ROC Area under Curve = {}\".format(roc_auc5))\n",
        "print(classification_report(y_test,y_pred,digits=5))\n",
        "plot_confusion_matrix(confusion_matrix(y_test , y_pred))\n",
        "RocCurveDisplay.from_estimator(model , x_test_scaled , y_test)"
      ],
      "metadata": {
        "id": "wKes-377Nfw8",
        "execution": {
          "iopub.status.busy": "2023-09-24T15:57:43.646203Z",
          "iopub.execute_input": "2023-09-24T15:57:43.646542Z",
          "iopub.status.idle": "2023-09-24T15:57:44.705995Z",
          "shell.execute_reply.started": "2023-09-24T15:57:43.646514Z",
          "shell.execute_reply": "2023-09-24T15:57:44.704828Z"
        },
        "trusted": true
      },
      "execution_count": null,
      "outputs": []
    },
    {
      "cell_type": "code",
      "source": [
        "# adaboost\n",
        "model=AdaBoostClassifier()\n",
        "model.fit(x_train_scaled,y_train)\n",
        "y_pred = model.predict(x_test_scaled)\n",
        "accuracy = accuracy_score(y_test, y_pred)\n",
        "roc_auc6 = roc_auc_score(y_test, y_pred)\n",
        "print(\"Accuracy = {}\".format(accuracy))\n",
        "print(\"ROC Area under Curve = {}\".format(roc_auc6))\n",
        "print(classification_report(y_test,y_pred,digits=5))\n",
        "plot_confusion_matrix(confusion_matrix(y_test , y_pred))\n",
        "RocCurveDisplay.from_estimator(model , x_test_scaled , y_test)"
      ],
      "metadata": {
        "id": "NnHF05fONgG4",
        "execution": {
          "iopub.status.busy": "2023-09-24T15:57:44.707737Z",
          "iopub.execute_input": "2023-09-24T15:57:44.709041Z",
          "iopub.status.idle": "2023-09-24T15:57:45.612268Z",
          "shell.execute_reply.started": "2023-09-24T15:57:44.70897Z",
          "shell.execute_reply": "2023-09-24T15:57:45.611001Z"
        },
        "trusted": true
      },
      "execution_count": null,
      "outputs": []
    },
    {
      "cell_type": "markdown",
      "source": [
        "<a id=\"Auto_ML\"></a>\n",
        "<h1 style='background:#F5F5DC;border:0; color:black;\n",
        "    box-shadow: 10px 10px 5px 0px rgba(0,0,0,0.75);\n",
        "    transform: rotateX(10deg);\n",
        "    '><center>Auto ML</center></h1>"
      ],
      "metadata": {
        "id": "-5KIOgn0nK6u"
      }
    },
    {
      "cell_type": "code",
      "source": [
        "pip install pycaret"
      ],
      "metadata": {
        "id": "aC5fC0iCpQjA",
        "_kg_hide-input": true,
        "_kg_hide-output": true,
        "execution": {
          "iopub.status.busy": "2023-09-24T15:57:45.613548Z",
          "iopub.execute_input": "2023-09-24T15:57:45.61452Z",
          "iopub.status.idle": "2023-09-24T15:58:28.791358Z",
          "shell.execute_reply.started": "2023-09-24T15:57:45.614483Z",
          "shell.execute_reply": "2023-09-24T15:58:28.790059Z"
        },
        "trusted": true
      },
      "execution_count": null,
      "outputs": []
    },
    {
      "cell_type": "code",
      "source": [
        "from pycaret.classification import *"
      ],
      "metadata": {
        "id": "JeRdG9uHnbU6",
        "execution": {
          "iopub.status.busy": "2023-09-24T15:58:28.793052Z",
          "iopub.execute_input": "2023-09-24T15:58:28.793415Z",
          "iopub.status.idle": "2023-09-24T15:58:31.574018Z",
          "shell.execute_reply.started": "2023-09-24T15:58:28.79337Z",
          "shell.execute_reply": "2023-09-24T15:58:31.572923Z"
        },
        "trusted": true
      },
      "execution_count": null,
      "outputs": []
    },
    {
      "cell_type": "code",
      "source": [
        "# init setup\n",
        "model_setup = setup(df , target = 'Churn' , train_size=0.7)"
      ],
      "metadata": {
        "id": "CfPree1Wnj8H",
        "execution": {
          "iopub.status.busy": "2023-09-24T15:58:31.575323Z",
          "iopub.execute_input": "2023-09-24T15:58:31.575673Z",
          "iopub.status.idle": "2023-09-24T15:58:33.888007Z",
          "shell.execute_reply.started": "2023-09-24T15:58:31.575643Z",
          "shell.execute_reply": "2023-09-24T15:58:33.886893Z"
        },
        "trusted": true
      },
      "execution_count": null,
      "outputs": []
    },
    {
      "cell_type": "code",
      "source": [
        "# model training and selection\n",
        "best_model = compare_models()"
      ],
      "metadata": {
        "id": "sJWuQewWnj_5",
        "execution": {
          "iopub.status.busy": "2023-09-24T15:58:33.889292Z",
          "iopub.execute_input": "2023-09-24T15:58:33.889623Z",
          "iopub.status.idle": "2023-09-24T15:59:28.195182Z",
          "shell.execute_reply.started": "2023-09-24T15:58:33.889594Z",
          "shell.execute_reply": "2023-09-24T15:59:28.193994Z"
        },
        "trusted": true
      },
      "execution_count": null,
      "outputs": []
    },
    {
      "cell_type": "code",
      "source": [
        "# evaluate trained model\n",
        "evaluate_model(best_model)"
      ],
      "metadata": {
        "id": "rQdwPbKVnkCu",
        "execution": {
          "iopub.status.busy": "2023-09-24T15:59:28.197Z",
          "iopub.execute_input": "2023-09-24T15:59:28.197334Z",
          "iopub.status.idle": "2023-09-24T15:59:28.849833Z",
          "shell.execute_reply.started": "2023-09-24T15:59:28.197304Z",
          "shell.execute_reply": "2023-09-24T15:59:28.84862Z"
        },
        "trusted": true
      },
      "execution_count": null,
      "outputs": []
    },
    {
      "cell_type": "markdown",
      "source": [
        "<a id=\"Recommendations_&_Conclustion\"></a>\n",
        "<div class=\"Recommendations & Conclusion\" style=\"background-color:#F5F5DC; color:black; padding: 20px; margin: 10px; font-size: 110%; border-radius: 25px; box-shadow: 10px 10px 5px 0px rgba(0,0,0,0.75);\">\n",
        "  <h1><center>Recommendations & Conclusion</center></h1>\n",
        "  <ul>\n",
        "    <li >Should consider that the higher percntage are males incresing the products that grap the males interest and so on.</li>\n",
        "    <li>May be the comapny should consider taking care of the products that suits the single and the married customers as the single are more likly to churn</li>\n",
        "    <li>The company should consider the products that not that expensive or that cheap so that the medium city tier 2 can trust buying it cause as a medium tier customer i wo't afford buying expensive products and i won't trust buying cheap products as they won't meet my needs</li>\n",
        "    <li>The company should think of another technique other than satisfaction score or complaining may be a hot line to recive the complains to get fast results or provied regular phone calls to recive feedback from the customers</li>\n",
        "    <li>The company should check the mobile version of the store to see if there is any problem with the ui/ux</li>\n",
        "    <li>Once the customer has reached 12%-15% orderamount the company should consider focusing more on grap their attention with the products they like</li>\n",
        "    <li>For customers who have just bought electronic goods, cross-selling can be done by offering electronic accessories, such as keyboards, mice, etc.</li>      \n",
        "\n",
        "  </ul>\n",
        "</div>"
      ],
      "metadata": {
        "id": "KFf2OfYjnXtE"
      }
    }
  ]
}